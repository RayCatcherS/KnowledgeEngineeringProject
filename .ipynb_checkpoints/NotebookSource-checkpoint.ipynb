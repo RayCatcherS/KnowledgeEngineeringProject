{
 "cells": [
  {
   "cell_type": "markdown",
   "id": "bfc4168f",
   "metadata": {},
   "source": [
    "# Progetto basato su conoscenza\n",
    "Progetto basato su conoscenza per l'esame di Ingegneria Della Conoscenza"
   ]
  },
  {
   "cell_type": "markdown",
   "id": "72bf4bf0",
   "metadata": {},
   "source": [
    "## 1) Introduzione\n",
    "\n",
    "Risultati su studi che intercettano fattori di abbandono dei giochi online multigiocatore, mostrano che le motivazioni più rilevanti sono dovute da: https://www.sciencedirect.com/science/article/abs/pii/S1875952117300770\n",
    "\n",
    "- problemi di attesa, latenza/prestazioni(più rilevanti)\n",
    "- l'equità del gioco(divario tra giocatori).\n",
    "\n",
    "### 1.1) Scenario\n",
    "Si simula lo scenario in cui verrà avviato un nuovo servizio online per il lancio di un nuovo gioco multiplayer. Dato dal picco di giocatori nei primi giorni di uscita del servizio, si prevede si dovrà gestire un carico molto elevato di richieste di partecipazione da parte degli utenti. Si assume che:\n",
    "\n",
    "- Le risorse server potrebbero risultare limitate rispetto alla popolazione di giocatori \n",
    "- Periodicamente viene fornito al sistema un numero limitato di partite istanziabili rispetto alle risorse disponibili\n",
    "- Ci siano un certa popolazione di giocatori in fase di ricerca di una nuova partita\n",
    "- In base a dei lavori di ricerca è stato constatato che giocatori tendono ad abbandonare la ricerca di una partita se: i giocatori attendono in coda da troppo tempo, le partite sono composte da giocatori troppo differenti rendendo il gioco squilibrato e frustrante \n",
    "\n",
    "### 1.2) Obiettivo\n",
    "L'obiettivo di questo problema è ottimizzare al meglio l'utilizzo delle risorse(limitate), massimizzando l'efficienza dei server online per gestire al meglio il picco di giocatori atteso al lancio. Riducendo quindi il rischio di abbandono da parte dei giocatori, dovuto a lunghe attese o a partite squilibrate. Si vuole quindi sviluppare un sistema di modelli basati su conoscenza che sfrutti conoscenza pregressa già disponibile sui giocatori iscritti alla piattaforma, rispetto ai giochi precedentemente giocati.\n",
    "\n",
    "Per favorire i criteri legati ai partecipanti. Sarà quindi fondamentale estrarre conoscenza da quella pregressa, per:\n",
    "- comporre partite di giocatori chegiocando in modo simile rilevando le possibili classi naturali di giocatori(clustering)\n",
    "- classificare periodicamente i nuovi giocatori rispetto alle loro statistiche affinchè vengano assegnati ad una certa classe\n",
    "\n",
    "Un algoritmo di ricerca locale(Local Search for Optimization) costruirà l'assegnazione ottimale(CSP) che codificherà le assegnazioni dei giocatori alle partite secondo le esigenze descritte."
   ]
  },
  {
   "cell_type": "markdown",
   "id": "495d0777",
   "metadata": {},
   "source": [
    "## 2) Dataset\n",
    "Primo tentativo è stato quello ottenere i dati di statistiche tramite web scraping ma a causa del tempo limitato e del **Rate Limiting** posto dalla piattaforma ho optato per cercare un dataset già costruito(generalemente dataset di questo tipo sono rarissimi).\n",
    "Il dataset è ottenuto su [https://www.kaggle.com/datasets/fahadalqahtani/cod-vanguard-stats](Kaggle), un campione di circa trecicimila tuple di statistiche su giocatori del gioco Call Of Duty Vanguard. Le features fornite sono:\n",
    "\n",
    "\n",
    "- **matches**: Numero di partite multigiocatore giocate dal giocatore.\n",
    "- **play_time**: Tempo totale trascorso dal giocatore giocando a Call of Duty, in ore.\n",
    "- **kills**: Numero di uccisioni effettuate dal giocatore in tutte le sue partite.\n",
    "- **deaths**: Numero di volte in cui il giocatore è stato ucciso nel gioco.\n",
    "- **assists**: Numero di volte in cui il giocatore ha danneggiato un nemico ma un compagno di squadra ha completato l'uccisione. Un valore alto indica che altri giocatori tendono a completare o rubare l'uccisione iniziata dal giocatere.\n",
    "- **headshots**: Numero di colpi alla testa inflitti ad altri giocatori.\n",
    "- **suicides**: Numero di volte che il giocatore si è sucidato.\n",
    "- **wins**: Numero di volte in cui il giocatore ha vinto una partita.\n",
    "- **losses**: Numero totale di partite perse.\n",
    "- **score**: Punti Esperienza (XP), una quantità numerica esclusiva per il multigiocatore che determina il livello e il progresso di un giocatore nel gioco.\n",
    "- **missed_shots**: Numero di volte in cui il giocatore ha mancato il colpo.\n",
    "- **hits_shots**: Numero di volte in cui il giocatore ha colpito un altro giocatore.\n",
    "\n",
    "\n",
    "Si assume che i dati utilizzati ottenuti siano parte di conoscenza pregressa appartenente a statistiche del gioco di precedente generazione."
   ]
  },
  {
   "cell_type": "markdown",
   "id": "6ab8b224",
   "metadata": {},
   "source": [
    "## 3) Pre-processing dataset conoscenza pregressa \n",
    "In questa fase si utilizzano librerie ampiamente note, per effettuare pre-processing sui dati grezzi\n",
    "\n",
    "#### 3.1) Feature Derivation\n",
    "Vengono costruite features derivate da quelle di partenza. Queste sono utili per i task successivi:\n",
    "- **game_exits** = gamesPlayed - (wins + losses)\n",
    "- **kd_ratio**: Rapporto uccisioni/morti, usando le features *deaths* e *kills*. Un giocatore con un valore più alto tenderà ad aver fatto molte più uccisioni che morti, contribuendo alla vittoria della partita.\n",
    "[//]: #- **mh_ratio**: Rapporto colpi andati a segno/colpi non andati a segno, usando le features *hits_shots* e *missed_shots*. Un giocatore con un valore più alto tenderà a mettere a segno più colpi."
   ]
  },
  {
   "cell_type": "code",
   "execution_count": 11,
   "id": "edd76aee",
   "metadata": {},
   "outputs": [],
   "source": [
    "import pandas as pd\n",
    "\n",
    "# carica dataset nel dataframe\n",
    "df = pd.read_csv('datasets/cod_vanguard_player_stats_raw.csv')\n",
    "\n",
    "# feature derivation\n",
    "df['kd_ratio'] = df['kills'] / df['deaths']\n",
    "# df['mh_ratio'] = df['hits_shots'] / df['missed_shots']\n",
    "df['game_exits'] = df['matches'] - (df['wins'] + df['losses'])"
   ]
  },
  {
   "cell_type": "markdown",
   "id": "cb1fa3cc",
   "metadata": {},
   "source": [
    "#### 3.2) Data cleaning e rimozione duplicati\n",
    "Questa fase di pre-processing consiste nell'applicare:\n",
    "- **Data Cleaning**: Pulizia di dati con valori nulli e valori negativi(su 13 tuple ci sono 2 valori negativi probabilmente dovuti ad errori durante la raccolta dei dati). Ci sono circa 13 mila tuple, quelle difettose sono di gran lunga minori. Rimuovere le tuple problematiche non andrà ad inficiare l'informatività del dataset. \n",
    "- **Rimozione duplicati**\n",
    "- **Rimozione di tuple anomale**: Visualizzando i dati in ordine noto che alcune tuple hanno valore *missed_shots* pari a zero nonostante abbiano valori molto alti in altre features, sarà ad anomalie, per cui queste tuble vengono eliminate. Non ho trovato altre anomalie.\n",
    "- **Rappresentazione feature play_time**: Ricavare solo il dato numerico dei minuti totali partendo dal formato stringa hours minutes"
   ]
  },
  {
   "cell_type": "code",
   "execution_count": 12,
   "id": "c97edadd",
   "metadata": {},
   "outputs": [],
   "source": [
    "# Data Cleaning - verifica dei valori mancanti\n",
    "'''\n",
    "print('-Verifica valori mancanti-')\n",
    "print(df.isnull().sum())\n",
    "'''\n",
    "# rimozione valori negativi per le features\n",
    "df = df[df['game_exits'] >= 0]\n",
    "\n",
    "\n",
    "# rimozione duplicati\n",
    "df.drop_duplicates(inplace=True)\n",
    "\n",
    "# rimozione tuple anomale\n",
    "df = df[df['missed_shots'] != 0]\n",
    "\n",
    "# conversione stringa hours minutes in valore intero rappresentate i minuti\n",
    "# funzione per convertire il formato in minuti totali\n",
    "def convert_play_time_to_minutes(play_time_str):\n",
    "    # split stringa\n",
    "    parts = play_time_str.split(' ')\n",
    "    hours = int(parts[0].replace('h', ''))\n",
    "    minutes = int(parts[1].replace('m', ''))\n",
    "    \n",
    "    # tot minuti\n",
    "    total_minutes = hours * 60 + minutes\n",
    "    return total_minutes\n",
    "# applicazione della funzione alla colonna \"play_time\" per convertire tutto in minuti\n",
    "df['play_time'] = df['play_time'].apply(convert_play_time_to_minutes)\n",
    "\n",
    "\n",
    "# salvataggio dataset preprocessed \n",
    "import os\n",
    "file_path = 'datasets/df_preprocessed.csv'\n",
    "if os.path.exists(file_path):\n",
    "    os.remove(file_path)\n",
    "    \n",
    "df.to_csv(file_path, index=False)"
   ]
  },
  {
   "cell_type": "markdown",
   "id": "5a48a962",
   "metadata": {},
   "source": [
    "#### 3.3) Outlier\n",
    "Tramite boxplot delle singole features degli esempi, questi sono risultati essere coerenti con una distribuzione realistica e informativa, non ci sono valori eccessivamente anomali."
   ]
  },
  {
   "cell_type": "markdown",
   "id": "36ff68e6",
   "metadata": {},
   "source": [
    "#### 3.4) Normalizzazione delle features\n",
    "Una vulnerabilità del K-means è quello di essere sensibile a scale di features troppo differenti in termini di dimensioni. Si adopera quindi una tecnica di **scaling** per **standardizzazione** le features, features con scale trooppo grandi tendono a dominare. Per la normalizzazione viene usato **z-score** che trasforma la distribuzione di ogni features in una distribuzione normale standard con media 0 e deviazione standard 1. La standardizzazione(o generalmente normalizzazione) consentirà di rendere le diverse features comparabili tra loro, indipendentemente dalla loro scala originale di partenza.\n",
    "Viene quindi generato un secondo dataset normalizzato per il task di apprendimento non supervisionato(K-means)."
   ]
  },
  {
   "cell_type": "code",
   "execution_count": 13,
   "id": "2457a9c6",
   "metadata": {},
   "outputs": [],
   "source": [
    "from sklearn.preprocessing import StandardScaler\n",
    "\n",
    "dfPreStand = pd.read_csv('datasets/df_preprocessed.csv')\n",
    "\n",
    "# scaling(z-score)\n",
    "scaler = StandardScaler()\n",
    "features_to_normalize = ['matches', 'play_time', 'kills', 'deaths', 'assists', 'headshots', 'suicides', 'wins', 'losses', 'score', 'missed_shots', 'hits_shots', 'game_exits']\n",
    "dfPreStand[features_to_normalize] = scaler.fit_transform(dfPreStand[features_to_normalize])\n",
    "\n",
    "\n",
    "# salvataggio del dataset per il k-means standardizzato\n",
    "file_path = 'datasets/unsupervised_learning_datasets/df_standardized_preprocessed.csv'\n",
    "if os.path.exists(file_path):\n",
    "    os.remove(file_path)\n",
    "dfPreStand.to_csv(file_path, index=False)"
   ]
  },
  {
   "cell_type": "markdown",
   "id": "17c7ccd7",
   "metadata": {},
   "source": [
    "## 4) Apprendimento Non Supervisionato\n",
    "Tramite apprendimento non supervisionato si avvalora una certa features Y non conosciuta. Quello che si vuole fare è costruire una **classificazione naturale dei dati** che non conosciamo. Tramite clustering voglio quindi partizionare l'insieme dei giocatori secondo pattern e somiglianze nei dati. Queste somiglianze devono raggruppare giocatori con comportamenti/pattern di gioco simili. \n",
    "\n",
    "#### 4.1)  Utilità del clustering nel problema\n",
    "Specificamente al nostro problema ci servirà intercettare le *k* classi di giocatori simili, da assegnare all'insieme degli esempi. Dopo aver intercettato le k classi, durante la configurazione delle istanze delle partite di gioco, l'algoritmo di ricerca locale(CSP) utilizzerà l'informazione sulle classi per distribuire nelle partite giocatori della stessa classe, rendendole più equilibrate. L'intento e il funzionamento dell'algoritmo di ricerca viene spiegato più avanti. \n",
    "\n",
    "#### 4.2) Scelta approccio e algoritmo\n",
    "Per rendere più flessibile la scelta dei giocatori rispetto alla classe ho valutato i due approcci Soft e Hard Clustering.\n",
    "\n",
    "Il Soft Clustering permetterebbe di creare un sistema più flessibile in quanto ogni esempio apparterrebbe ad ogni classe con una certa distribuzione di probabilità. Rispetto agli algoritmi affrontati nel corso, però, l'algoritmo affrontato per il Soft Clustering(Expectation e Maximization) fa un'assunzione di indipendenza condizionata sulle variabili(Naive Bayes), assunzione che nel mio caso non potrei assicurare come realistica. Ho quindi optato per l'approccio'Hard Clustering utilizzando **K-means**, anche per semplificare la soluzione del problema.\n",
    "\n",
    "#### 4.3) Scelta delle features per l'addestramento\n",
    "La scelta delle features per l'addestramento non supervisionato è stata fatta in modo empirico rispetto ad assunzioni personali. L'obiettivo è stato quello di isolare le features che probabilmente riflettono lo stile di gioco dei giocatori. Le **features scelte** sono: *matches*, *play_time*, *kills*, *deaths*, *assists*, *headshots*, *score*, *missed_shots*, *hits_shots*\n",
    "Il resto delle features sono state scartate per il clustering per i seguenti motivi:\n",
    "- *wins* e *losses*: Sono features che dicono poco sul giocatore, in quanto le squadre sono composte da più giocatori e rifletterebbero più il risultato di una squadra\n",
    "\n",
    "#### 4.4) Scelta del valore naturale di *K*\n",
    "Un altro dettaglio da curare nel K-means è la scelta dell'iperparametro *k*, ovvero la quantità di classi con cui far lavorare l'algoritmo. Un modo per trovare il suo **valore naturale** è utilizzare la **regola del gomito**, che consiste nel partire da un certo *k* basso e incrementarlo via via, cercando il numero ottimale di cluster *k* fino a un masso di iterazioni. La regola consiste nel calcolare la **somma delle distanze quadratiche(inertia)** tra ogni esempio(punto nello spazio) e i centroidi assegnati(classe), selezionando il valore di k per il quale questa somma inizia a ridursi lentamente.\n",
    "\n",
    "L'algoritmo verrà quindi eseguito su *k* che varierà da 1 a 11. Al metodo KMeans vengono passati i seguenti parametri:\n",
    "- ***init='k-means++'***: È una tecnica di inizializzazione nella scelta i centroidi iniziali in modo più intelligente e non in modo casuale(ad esempio scegliendo centroidi distanti tra loro), questo aiuta ad innescare l'algoritmo, migliorandone la convergenza. \n",
    "- ***max_iter=300***: Rappresenta il numero massimo di iterazioni che K-means effettua durante la ricerca dei centroidi per i cluster\n",
    "- ***n_init=10***: Rappresenta quanti **random restart effettuare** sulla singola scelta di k in modo da partire da diverse configurazioni di centroidi e scegliendo il miglior risultato che useremo per il calcolo dell'inertia"
   ]
  },
  {
   "cell_type": "code",
   "execution_count": 14,
   "id": "653f40d4",
   "metadata": {},
   "outputs": [
    {
     "data": {
      "image/png": "[encoded data removed]",
      "text/plain": [
       "<Figure size 700x300 with 1 Axes>"
      ]
     },
     "metadata": {},
     "output_type": "display_data"
    }
   ],
   "source": [
    "from sklearn.cluster import KMeans\n",
    "import matplotlib.pyplot as plt\n",
    "\n",
    "# caricamento del dataset per il k-means standardizzato\n",
    "dfPreStand = pd.read_csv('datasets/unsupervised_learning_datasets/df_standardized_preprocessed.csv')\n",
    "\n",
    "# features usate per il clustering\n",
    "featuresTocluster = ['matches', 'play_time', 'assists', 'kd_ratio', 'assists', 'headshots',\n",
    "                        'score', 'missed_shots', 'hits_shots', 'suicides']\n",
    "X = dfPreStand[featuresTocluster]\n",
    "\n",
    "# vettore delle somme delle distanze quadratiche(inertia) per k che varierà nel range\n",
    "wcss = []\n",
    "k_range = range(1, 11)\n",
    "\n",
    "for k in k_range:\n",
    "    kmeans = KMeans(n_clusters=k, init='k-means++', max_iter=300, n_init=10)\n",
    "    kmeans.fit(X)\n",
    "    wcss.append(kmeans.inertia_)  # Inertia è il valore del WCSS per k\n",
    "    \n",
    "    \n",
    "# Traccia il grafico della regola del gomito\n",
    "plt.figure(figsize=(7, 3))\n",
    "plt.plot(k_range, wcss, marker='o', linestyle='--')\n",
    "plt.xlabel('Numero di Cluster (k)')\n",
    "plt.ylabel('somma delle distanze quadratiche(WCSS)')\n",
    "plt.title('Metodo del Gomito per trovare il numero ottimale di cluster')\n",
    "plt.xticks(k_range)  # Visualizza ogni valore di k sull'asse x\n",
    "plt.grid(True)\n",
    "\n",
    "# punto del gomito su k=3\n",
    "plt.scatter(3, wcss[2], s=100, c='red', label='Punto del Gomito (k=3)')\n",
    "plt.legend()\n",
    "plt.show()"
   ]
  },
  {
   "cell_type": "markdown",
   "id": "2baa8ca5",
   "metadata": {},
   "source": [
    "Come si può notare dopo *k=3* l'inertia diminuisce in modo meno significativo, per cui il *valore naturale*, ovvero il miglior valore è *k=4*.\n",
    "\n",
    "#### 4.5) Assegnazione degli esempi alle classi\n",
    "A questo punto trovato k, si proce con l'esecuzione del k-means con *k=4*(cluster) e si assegnano le classi agli esempi del dataset."
   ]
  },
  {
   "cell_type": "code",
   "execution_count": 15,
   "id": "656a93c6",
   "metadata": {},
   "outputs": [],
   "source": [
    "k = 3\n",
    "kmeans = KMeans(n_clusters=k, init='k-means++', max_iter=300, n_init=10)\n",
    "kmeans.fit(X)\n",
    "\n",
    "\n",
    "# aggiunta delle label risultanti(classi) ai dataset preprocessati\n",
    "dfStandClustered = pd.read_csv('datasets/unsupervised_learning_datasets/df_standardized_preprocessed.csv')\n",
    "dfClustered = pd.read_csv('datasets/df_preprocessed.csv')\n",
    "\n",
    "\n",
    "# aggiunta label classe giocatore ai due dataset\n",
    "dfStandClustered['cluster_label'] = kmeans.labels_\n",
    "dfClustered['cluster_label'] = kmeans.labels_\n",
    "\n",
    "\n",
    "# salvataggio del dataset con label sulla classe(clustering) del giocatore\n",
    "file_path = 'datasets/player_class_datasets/df_stand_preproc_class_lab.csv'\n",
    "if os.path.exists(file_path):\n",
    "    os.remove(file_path)\n",
    "dfStandClustered.to_csv(file_path, index=False)\n",
    "\n",
    "file_path = 'datasets/player_class_datasets/df_preproc_class_lab.csv'\n",
    "if os.path.exists(file_path):\n",
    "    os.remove(file_path)\n",
    "dfClustered.to_csv(file_path, index=False)"
   ]
  },
  {
   "cell_type": "code",
   "execution_count": 16,
   "id": "a9cfd7c7",
   "metadata": {},
   "outputs": [
    {
     "data": {
      "image/png": "[encoded data removed]",
      "text/plain": [
       "<Figure size 400x400 with 1 Axes>"
      ]
     },
     "metadata": {},
     "output_type": "display_data"
    }
   ],
   "source": [
    "\n",
    "# Grafico a torta per mostrare la distribuzione della popolazione nei cluster\n",
    "plt.figure(figsize=(4, 4))\n",
    "\n",
    "# Conta il numero di punti in ciascun cluster\n",
    "cluster_counts = dfClustered['cluster_label'].value_counts()\n",
    "\n",
    "# Grafico a torta per mostrare la distribuzione della popolazione nei cluster\n",
    "cluster_counts.plot(kind='pie', autopct='%1.1f%%', startangle=90, colors=['lightblue', 'lightgreen', 'lightcoral'])\n",
    "plt.ylabel('')\n",
    "plt.title('Distribuzione Percentuale della Popolazione nei Cluster')\n",
    "plt.show()"
   ]
  },
  {
   "cell_type": "markdown",
   "id": "f3a72d33",
   "metadata": {},
   "source": [
    "## ) Local Search for Optimization(CSP e Ricerca Locale)\n",
    "\n",
    "L'idea è quella di rappresentare il problema dell'assegnazione delle risorse limitate tramite un algoritmo di ricerca rispetto alle assegnazioni(CSP) di variabili. \n",
    "\n",
    "La scelta dell'algoritmo con cui risolvere il problema è stata guidata da due considerazioni principali: \n",
    "- A causa della complessità, ovvero la crescita esponenziale dello spazio di ricerca rispetto alla quantità di giocatori disponibili e delle partite istanziabili, sarebbe inefficiente optare per un algoritmo di ricerca esaustivo, un punto di partenza potrebbe la soluzione di un CSP tramite ricerca locale. \n",
    "- Ci sono alcuni vincoli che devono essere inviolabili tramite **Hard Constraints**, come la capacità massima di giocatori in una partita\n",
    "- L'algoritmo deve gestire uno scenario in cui le risorse sono limitate(partite istanziabili), consentendo il fatto che alcuni giocatori potrebbero non riuscire ad essere assegnati ad alcuna partita ovvero che i vincoli vengano soddisfati solo parzialmente. Questo potremmo codificarlo tramite **Soft Constraints**.\n",
    "- L'algoritmo deve quindi cercare la soluzione ottimale soddisfando quanti più soft constraints(di cui ognuno avrà una certa importanza), consentendo la violazione di alcuni ma massimizzando l'ottimalità della soluzione usando una **funzione obiettivo**\n",
    "\n",
    "Queste considerazioni non descrivono altro che un **Problema Di Ottimizzazione Vincolato**, per risolvere il problema ho quindi optato per un algoritmo di **Local Search for Optimization**. \n",
    "\n",
    "Il problema verrà codificato tramite **Hard Constraints**, **Funzione Obiettivo** e **Soft Constraints**, questi ultimi due guideranno la ricerca verso una soluzione ottimale. Una soluzione ottimale sarà ottimo locale, ovvero una soluzione di cui \"ci accontenteremo\" in quanto sarà impossibile stabilire se questa sarà anche un ottimo globale. Per ottenere soluzioni più soddisfacenti oltre alla scelta dell'algoritmo di ricerca adeguato, consentirò dei random restart, ma di questo ne parlo più avanti nella fase di implementazione. "
   ]
  },
  {
   "cell_type": "markdown",
   "id": "678e6711",
   "metadata": {},
   "source": [
    "### .2) Google OR-Tools \n",
    "Per il tipo di problema di *Local Search for Optimization* ho deciso di utilizzare la libreria [Google OR-Tools](https://developers.google.com/optimization?hl=it). Questa libreria mi permette di gestire aspetti riguardanti:\n",
    "- **Supporto per CSP**: OR-Tools è pensata per risolvere *Constraint Satisfaction Problems*\n",
    "- **Gestione di Constraint**: consentendo sia vincoli hard che soft (vincoli hard saranno usati per gestire la capacità massima delle partite)\n",
    "- **Funzione Obiettivo**: guida la ricerca di soluzioni ottimali\n",
    "- **Tecniche di ricerca locale**: offrendo algoritmi di ricerca locale combinabili con *simulated annealing* e *tabu search*, affrontati durante il corso"
   ]
  },
  {
   "cell_type": "code",
   "execution_count": 10,
   "id": "9641bda1-a26e-4329-b5ca-4e906f9f133b",
   "metadata": {},
   "outputs": [
    {
     "name": "stdout",
     "output_type": "stream",
     "text": [
      "Requirement already satisfied: ortools in c:\\users\\roman\\anaconda3\\lib\\site-packages (9.11.4210)\n",
      "Requirement already satisfied: absl-py>=2.0.0 in c:\\users\\roman\\anaconda3\\lib\\site-packages (from ortools) (2.1.0)\n",
      "Requirement already satisfied: numpy>=1.13.3 in c:\\users\\roman\\anaconda3\\lib\\site-packages (from ortools) (1.26.4)\n",
      "Requirement already satisfied: pandas>=2.0.0 in c:\\users\\roman\\anaconda3\\lib\\site-packages (from ortools) (2.1.4)\n",
      "Requirement already satisfied: protobuf<5.27,>=5.26.1 in c:\\users\\roman\\anaconda3\\lib\\site-packages (from ortools) (5.26.1)\n",
      "Requirement already satisfied: immutabledict>=3.0.0 in c:\\users\\roman\\anaconda3\\lib\\site-packages (from ortools) (4.2.0)\n",
      "Requirement already satisfied: python-dateutil>=2.8.2 in c:\\users\\roman\\anaconda3\\lib\\site-packages (from pandas>=2.0.0->ortools) (2.8.2)\n",
      "Requirement already satisfied: pytz>=2020.1 in c:\\users\\roman\\anaconda3\\lib\\site-packages (from pandas>=2.0.0->ortools) (2023.3.post1)\n",
      "Requirement already satisfied: tzdata>=2022.1 in c:\\users\\roman\\anaconda3\\lib\\site-packages (from pandas>=2.0.0->ortools) (2023.3)\n",
      "Requirement already satisfied: six>=1.5 in c:\\users\\roman\\anaconda3\\lib\\site-packages (from python-dateutil>=2.8.2->pandas>=2.0.0->ortools) (1.16.0)\n"
     ]
    }
   ],
   "source": [
    "#Installazione Google OR-Tools\n",
    "!pip install ortools"
   ]
  },
  {
   "cell_type": "code",
   "execution_count": 11,
   "id": "ed75a32d",
   "metadata": {
    "scrolled": true
   },
   "outputs": [],
   "source": [
    "from ortools.sat.python import cp_model\n",
    "import matplotlib.pyplot as plt\n",
    "import numpy as np\n",
    "import time\n",
    "\n",
    "# modello\n",
    "model = cp_model.CpModel()"
   ]
  },
  {
   "cell_type": "markdown",
   "id": "55a39791",
   "metadata": {},
   "source": [
    "### .3) Scenario simulato\n",
    "Per simulare lo scenario è stata selezionata solo una porzione di giocatori dal dataset. Si simulerà lo scenario in cui le risorse messe a disposizione(match istanziabili) sono insufficienti rispetto alla richiesta di partecipazione dei giocatori. E si valuterà quanto il sistema è in grado di comporre partite che massimizzi l'efficienza del sistema, e scelga i partecipanti secondo i criteri ottimali più avanti descritti tramite soft constraints e minimizzazione della funzione obiettivo."
   ]
  },
  {
   "cell_type": "code",
   "execution_count": 12,
   "id": "7374291c",
   "metadata": {},
   "outputs": [],
   "source": [
    "# configurazione di prova\n",
    "availablePlayers = 200  # giocatori disponibili\n",
    "instancesAvailableMatches = 15  # istanze partite disponibili ad essere avviate\n",
    "playerCapacityMatches = 10  # capacità partite\n",
    "playersClassCount = 3  # numero di classi per i giocatori"
   ]
  },
  {
   "cell_type": "markdown",
   "id": "3b131d72",
   "metadata": {},
   "source": [
    "### .4) Codifica Variabili\n",
    "\n",
    "Rispetto alle considerazioni precedenti, codifico la variabile che rappresentava l'appartenenza del giocatore come un vettore di variabili binarie il cui numero di variabili è pari al dominio della variabile codificata di partenza. La variabile che assumerà il valore 1 indicherà l'indice del server di appartenenza per il giocatore. Quindi definisco i giocatori come vettori di variabili indicatrici:"
   ]
  },
  {
   "cell_type": "code",
   "execution_count": 4,
   "id": "b4d689ef",
   "metadata": {},
   "outputs": [],
   "source": [
    "# definizione dei player in termini di un vettore di variabile booleane\n",
    "players = []\n",
    "# per ogni giocatore\n",
    "for p in range(availablePlayers):\n",
    "    # la variabile all'interno del vettore match con valore 1 indicherà il\n",
    "    # match di appartenenza del giocatore\n",
    "    matches = []\n",
    "    for m in range(instancesAvailableMatches):\n",
    "        # creazione di varibile booleane tanti quanti sono i match \n",
    "        matches.append(\n",
    "            model.NewBoolVar(f'player_{p}_in_match_{m}')\n",
    "        )\n",
    "    players.append(matches)"
   ]
  },
  {
   "cell_type": "markdown",
   "id": "f4d06149",
   "metadata": {},
   "source": [
    "### .5) Hard constraint\n",
    "\n",
    "\n",
    "### .5.1) Problema della sommatoria di variabili con dominio non binario nella definizione di un vincolo rigido(#Sommatoria Condizionale#)\n",
    "\n",
    "\n",
    "Nell'utilizzo di Google OR-Tools ho riscontrato un limite (giustificato). Nel primo tentativo, mentre progettavo le variabili e gli hard constraints da inserire, avevo deciso come scelta progettuale che ogni variabile del giocatere $P_i$(giocatore i-esimo) avrebbe rappresentato la parita a lui assegnata. Il cui dominio:\n",
    "\n",
    "$$\n",
    "P_i \\quad \\text{con} \\quad \\text{dom}(P_i) = \\{ \\text{numero di server istanziati} \\}\n",
    "$$\n",
    "\n",
    "Una volta definite le variabili, per evitare che alle partite fossero assegnati più giocatori della loro capacità massima, ho creato un hard constraint per ogni match $M_j$ che avrebbe controllato che la somma dei giocatori assegnati a un match non superasse la capacità massima, ovvero:\n",
    "\n",
    "$$\n",
    "\\left( \\sum_{\\substack{P_i \\in \\text{players} \\\\ \\land \\\\ P_i = j}} 1 \\right) \\leq \\text{playerCapacityMatches}\n",
    "$$\n",
    "\n",
    "dove `players` è il vettore dei giocatori, `j` è l'indice del match(tra i match istanziati), e `playerCapacityMatches` è la capacità massima delle partite.\n",
    "\n",
    "### .5.1.1) Sommatoria condizionale\n",
    "Questa operazione è chiamata **sommatoria condizionale** e con Google OR-Tools non è possibile costruire vincoli di sommatorie che coinvolgono variabili con domini di numeri interi (finiti). Teoricamente, per verificare un vincolo con una sommatoria condizionale, il solver dovrebbe cercare tutte le possibili assegnazioni delle variabili coinvolte nella sommatoria condizionale affinché la condizione sia soddisfatta. In teoria, si potrebbe provare tutte le possibili assegnazioni di tutte le variabili affinchè che la sommatoria condizionale sia rispettata, ma la numerosità dei domini delle variabili renderebbe la complessità del problema estremamente elevata. Anche se dal punto di vista teorico sarebbe possibile trovare un'assegnazione che soddisfi una sommatoria condizionale, la complessità in presenza di variabili con domini ampi renderebbe questa ricerca molto più difficile. Per questo motivo, l'algoritmo della libreria Google OR-Tools non consente di costruire vincoli con sommatorie condizionali in presenza di variabili con domini su più valori.\n",
    "\n",
    "<img src=\"NonBooleanVariableError.png\" alt=\"Testo Alternativo\" style=\"width: 100%; height: auto;\">\n",
    "\n",
    "### .5.1.2) Soluzione\n",
    "Consultando la documentazione e vari esempi, ho scoperto che è possibile utilizzare sommatorie condizionali nei vincoli solo se le variabili coinvolte sono **binarie**. In questo caso, la ricerca di un'assegnazione per variabili binarie non ancora assegnate che rispettino la sommatoria condizionale risulta più semplice rispetto alle variabili con domini interi. Il dominio più piccolo delle variabili binarie rende più fattibile la ricerca dell'assegnzione. Ovviamente, se il numero di variabili binarie diventa troppo elevato, il problema persisterà, ma di base la libreria utilizzata disincentiva l'utilizzo diretto delle sommatorie condizionali.\n",
    "\n",
    "\n",
    "### .5.1.3) Strategia Soluzione\n",
    "La strategia iniziale che stavo adottando per costruire il CSP era quella di creare una variabile $P_i$ per ogni giocatore, il cui valore avrebbe rappresentato l'indice della partita a cui appartiene.\n",
    "\n",
    "Questa problematica mi ha portato a riprogettare la struttura delle variabili nel CSP, in cui ogni variabile viene rappresentata tramite **variabili indicatrici** rispetto al dominio della variabile di partenza. Ad esempio:\n",
    "Se una variabile $Y$ ha un dominio composto da 4 elementi, allora creo 4 variabili indicatrici $(Y_1, Y_2, Y_3, Y_4)$, l'assegnazione di una di queste variabili rappresenterà l'assegnazione su $Y$. Altro dettaglio è che con l'introduzione delle variabili binarie bisogna costruire un vincolo per ogni giocatore che codifica che \"solo una di queste variabili può assumere valore 1\". Questo può essere rappresentato con una sommatoria condizionale sulle variabili binarie:\n",
    "\n",
    "$$\n",
    "\\sum_{Y_i \\in Y} Y_i \\leq 1\n",
    "$$\n",
    "\n",
    "A questo punto posso costruire un vincolo di sommatoria condizionale sulle variabili binarie, più complesso ma che mi permette di codificare il vincolo che in precedenza non era possibile esprimere, risolvendo il problema di partenza."
   ]
  },
  {
   "cell_type": "markdown",
   "id": "1adf987f",
   "metadata": {},
   "source": [
    "**Nota**: Bisogna ancora codificare un vincolo aggiuntivo che garantisca che solo una variabile possa essere avvalorata(un giocatore può appartenere ad una sola istanza di partita alla volta)."
   ]
  },
  {
   "cell_type": "markdown",
   "id": "c14219f5",
   "metadata": {},
   "source": [
    "### .5.3) Codifica Hard constraints\n",
    "Con gli HC si definiscono dei vincoli che informano il solver su quali sono le assegnazioni sulle variabili da scartare.\n",
    "#### .5.3.1) HC appartenenza partita\n",
    "Per codificare l'appartenenza di un giocatore ad una partita tramite variabili binarie, bisogna introdurre un vincolo per ogni giocatore che controlla che questo appartenga al massimo ad una partita, ovvero che solo una delle variabili binarie $P_{ij}$, fissato $i$, può assumere valore pari a $1$. Questo constraint controlla che la sommatoria dei valori sulle variabili binarie su una riga siano $< 1$. Viene quindi definito un vincolo per ogni giocatore o riga(le righe rappresentano le variabili binarie di appartenenza alle partite del giocatore)\n",
    "\n",
    "$$\n",
    "\\sum_{j \\in \\text{matches}} P_{ij} \\leq 1, \\quad \\forall i \\in \\text{players}\n",
    "$$"
   ]
  },
  {
   "cell_type": "code",
   "execution_count": 5,
   "id": "461dbd93",
   "metadata": {},
   "outputs": [],
   "source": [
    "# si definisce un vincolo per ogni giocatore p\n",
    "for p in range(availablePlayers):\n",
    "    model.Add( \n",
    "        sum(players[p][m] for m in range(instancesAvailableMatches)) <= 1\n",
    "    )"
   ]
  },
  {
   "cell_type": "markdown",
   "id": "03ea6061",
   "metadata": {},
   "source": [
    "#### .5.3.1) HC Capacità massima partita\n",
    "Risolto il problema sulla sommatoria condizionale adesso è possibile codificare il vincolo per cui ogni partita non può ospitare più giocatori della sua capacità massima. Questo viene fatto controllando che sommatoria dei valori delle signole variabili binarie di ogni giocatore appartenenti alla colonna non sia maggiore della capacità massima. Viene quindi definito un vincolo per ogni match o colonna(le colonne rappresentano i giocatori appartenenti alla partita).\n",
    "\n",
    "$$\n",
    "\\sum_{i \\in \\text{players}} X_{ij} \\leq \\text{playerCapacityMatches}, \\quad \\forall j \\in \\text{matches}\n",
    "$$"
   ]
  },
  {
   "cell_type": "code",
   "execution_count": null,
   "id": "9d4c7b98",
   "metadata": {},
   "outputs": [],
   "source": [
    "# vincolo: il numero di giocatori per partita non deve superare la capacità massima\n",
    "for m in range(instancesAvailableMatches):\n",
    "    model.Add(\n",
    "        sum(players[p][m] for p in range(availablePlayers)) <= playerCapacityMatches\n",
    "    )"
   ]
  },
  {
   "cell_type": "markdown",
   "id": "e6e7532f",
   "metadata": {},
   "source": [
    "### .5) Funzione Obiettivo - Soft Constraints\n",
    "Dal punto di vista teorico a differenza degli *hard Constraint*, i *soft Constraints* sono vincoli che possono essere violati, questi sono usati come criteri di preferenza sulle possibili assegnazioni ammissibili. Il **solver** generalmente deve trovare la migliore assegnazione totale seguendo queste preferenze, ovvero deve soddisfare i soft constraint nel miglior modo possibile.\n",
    "\n",
    "\n",
    "### .5.1) Funzione obiettivo\n",
    "Nei problemi di **ottimizzazione vincolata** i *soft Constraints* vengono spesso integrati all'interno della **funzione obiettivo** come somme di penalità o costi. L'obiettivo del problema diventa quindi trovare assegnazioni che minimizzino la funzione obiettivo(**criterio di ottimalità**). \n",
    "\n",
    "**Esempio:** Se si vuole massimizzare il riempimento delle partite, si può aggiungere una penalità per ogni posto vuoto nelle partite. Questa penalità viene poi sommata nella funzione obiettivo che cerca di minimizzare il valore totale.\n",
    "\n",
    "#### .5.1.1) Costruzione termini penalità\n",
    "I soft constraint selezionati(penalità) per contribuire all'ottimalità della soluzione sono:\n",
    "\n",
    "- **Minimizzare giocatori senza partita**: I giocatori in cerca di partita dovranno cercare di essere serviti tutti\n",
    "\n",
    "\n",
    "- **Massimizzare la popolazione della partita**: ovvero incentivare il riempimento delle partite, evitando di istanziare partite sottoutilizzate e quindi di utilizzare ulteriori risorse(limitate). \n",
    "\n",
    "\n",
    "- **Tempo di attesa dei giocatori in coda**: Minimizzare i giocatori non assegnati ad una partita che sono in attesa da più tempo. Questi verranno preferiti nelle assegnazioni alle partite, disincentivando l'abbandono del servizio da parte dell'utenza.\n",
    "\n",
    "\n",
    "- **Partite con basso Rate quitting**:  Minimizzare nei giocatori assegnati ad una partita, i giocatori con un alto tasso di abbandono. Questo permetterà di favorire giocatori che mantengono le partite piene, inducendo quindi il pieno utilizzo delle risorse server(giocatori che abbandonano facilmente una partita, potrebbero richiedere di partecipare a nuove istanze, portando a non sfruttare pienamente le risorse). \n",
    "\n",
    "\n",
    "- **Proporzione delle partite istanziate**: La proporzione delle partite istanziate per ospitare giocatori di una certa classe deve tendere alla proporzione delle classi dei giocatori in cerca di una partita. Si può ottenere minimizzando: \n",
    "\n",
    "\n",
    "- **Partite con giocatori della stessa classe**: I giocatori appartenenti a una certa partita devono essere possibilmente della stessa classe(naturale), riducendo la possibilità che questi giocatori differiscano troppo tra loro."
   ]
  },
  {
   "cell_type": "code",
   "execution_count": 3,
   "id": "bb843f29",
   "metadata": {},
   "outputs": [
    {
     "name": "stdout",
     "output_type": "stream",
     "text": [
      "Giocatori non assegnati:\n",
      "Giocatore 1 non assegnato a nessuna partita\n",
      "Giocatore 2 non assegnato a nessuna partita\n",
      "Giocatore 3 non assegnato a nessuna partita\n",
      "Giocatore 4 non assegnato a nessuna partita\n",
      "Giocatore 5 non assegnato a nessuna partita\n",
      "Giocatore 6 non assegnato a nessuna partita\n",
      "Giocatore 7 non assegnato a nessuna partita\n",
      "Giocatore 8 non assegnato a nessuna partita\n",
      "Giocatore 9 non assegnato a nessuna partita\n",
      "Giocatore 10 non assegnato a nessuna partita\n",
      "Giocatore 11 non assegnato a nessuna partita\n",
      "Giocatore 12 non assegnato a nessuna partita\n",
      "Giocatore 13 non assegnato a nessuna partita\n",
      "Giocatore 14 non assegnato a nessuna partita\n",
      "Giocatore 15 non assegnato a nessuna partita\n",
      "Giocatore 16 non assegnato a nessuna partita\n",
      "Giocatore 17 non assegnato a nessuna partita\n",
      "Giocatore 18 non assegnato a nessuna partita\n",
      "Giocatore 19 non assegnato a nessuna partita\n",
      "Giocatore 20 non assegnato a nessuna partita\n",
      "Giocatore 21 non assegnato a nessuna partita\n",
      "Giocatore 22 non assegnato a nessuna partita\n",
      "Giocatore 23 non assegnato a nessuna partita\n",
      "Giocatore 24 non assegnato a nessuna partita\n",
      "Giocatore 25 non assegnato a nessuna partita\n",
      "Giocatore 26 non assegnato a nessuna partita\n",
      "Giocatore 27 non assegnato a nessuna partita\n",
      "Giocatore 28 non assegnato a nessuna partita\n",
      "Giocatore 29 non assegnato a nessuna partita\n",
      "Giocatore 30 non assegnato a nessuna partita\n",
      "Giocatore 31 non assegnato a nessuna partita\n",
      "Giocatore 32 non assegnato a nessuna partita\n",
      "Giocatore 33 non assegnato a nessuna partita\n",
      "Giocatore 34 non assegnato a nessuna partita\n",
      "Giocatore 35 non assegnato a nessuna partita\n",
      "Giocatore 36 non assegnato a nessuna partita\n",
      "Giocatore 37 non assegnato a nessuna partita\n",
      "Giocatore 38 non assegnato a nessuna partita\n",
      "Giocatore 39 non assegnato a nessuna partita\n",
      "Giocatore 40 non assegnato a nessuna partita\n",
      "Giocatore 41 non assegnato a nessuna partita\n",
      "Giocatore 42 non assegnato a nessuna partita\n",
      "Giocatore 43 non assegnato a nessuna partita\n",
      "Giocatore 44 non assegnato a nessuna partita\n",
      "Giocatore 45 non assegnato a nessuna partita\n",
      "Giocatore 46 non assegnato a nessuna partita\n",
      "Giocatore 47 non assegnato a nessuna partita\n",
      "Giocatore 48 non assegnato a nessuna partita\n",
      "Giocatore 49 non assegnato a nessuna partita\n",
      "Giocatore 50 non assegnato a nessuna partita\n",
      "visualizza grafico\n"
     ]
    },
    {
     "data": {
      "image/png": "[encoded data removed]",
      "text/plain": [
       "<Figure size 1000x600 with 1 Axes>"
      ]
     },
     "metadata": {},
     "output_type": "display_data"
    },
    {
     "name": "stdout",
     "output_type": "stream",
     "text": [
      "Soluzione trovata:\n",
      "Partita 0: 10 giocatori assegnati\n",
      "Partita 1: 10 giocatori assegnati\n",
      "Partita 2: 10 giocatori assegnati\n",
      "Partita 3: 10 giocatori assegnati\n",
      "Partita 4: 10 giocatori assegnati\n",
      "Partita 5: 10 giocatori assegnati\n",
      "Partita 6: 10 giocatori assegnati\n",
      "Partita 7: 10 giocatori assegnati\n",
      "Partita 8: 10 giocatori assegnati\n",
      "Partita 9: 10 giocatori assegnati\n",
      "Partita 10: 10 giocatori assegnati\n",
      "Partita 11: 10 giocatori assegnati\n",
      "Partita 12: 10 giocatori assegnati\n",
      "Partita 13: 10 giocatori assegnati\n",
      "Partita 14: 10 giocatori assegnati\n"
     ]
    }
   ],
   "source": [
    "# variabili ausiliarie per contare il numero di giocatori assegnati a ciascuna partita\n",
    "playersInMatch = [\n",
    "    model.NewIntVar(0, availablePlayers, f'players_in_match_{m}')\n",
    "    for m in range(instancesAvailableMatches)\n",
    "]\n",
    "\n",
    "# collegare le variabili booleane alle variabili ausiliarie per il conteggio dei giocatori\n",
    "for m in range(instancesAvailableMatches):\n",
    "    model.Add(playersInMatch[m] == sum(players[p][m] for p in range(availablePlayers)))\n",
    "\n",
    "# minimizzare la penalità di riempimento incompleto (posti vuoti)\n",
    "penalita_riempimento_terms = [playerCapacityMatches \n",
    "                              - playersInMatch[m] for m in range(instancesAvailableMatches)]\n",
    "\n",
    "# minimizzare la penalità totale\n",
    "model.Minimize(sum(penalita_riempimento_terms))\n",
    "\n",
    "# solver e risoluzione\n",
    "solver = cp_model.CpSolver()\n",
    "solver.parameters.max_time_in_seconds = 60.0  # limite di tempo di 60 secondi\n",
    "\n",
    "# risolvere il problema senza callback\n",
    "status = solver.Solve(model)\n",
    "\n",
    "# output della soluzione finale\n",
    "if status == cp_model.OPTIMAL or status == cp_model.FEASIBLE:\n",
    "    print('Giocatori non assegnati:')\n",
    "    unassigned_players = []\n",
    "    assigned_players = []\n",
    "    assignments = [[] for _ in range(instancesAvailableMatches)]\n",
    "\n",
    "    for p in range(availablePlayers):\n",
    "        assigned = False\n",
    "        for m in range(instancesAvailableMatches):\n",
    "            if solver.Value(players[p][m]) == 1:\n",
    "                assigned_players.append(p)\n",
    "                assignments[m].append(p)\n",
    "                assigned = True\n",
    "                break\n",
    "        if not assigned:\n",
    "            unassigned_players.append(p)\n",
    "            print(f'Giocatore {p} non assegnato a nessuna partita')\n",
    "\n",
    "    # visualizzazione grafica dei giocatori assegnati e non assegnati\n",
    "    print('visualizza grafico')\n",
    "    fig, ax = plt.subplots(figsize=(10, 6))\n",
    "    bars = []\n",
    "    labels = []\n",
    "\n",
    "    for m in range(instancesAvailableMatches):\n",
    "        bars.append(solver.Value(playersInMatch[m]))\n",
    "        labels.append(f'Partita {m}')\n",
    "\n",
    "    x = np.arange(len(labels))\n",
    "    ax.bar(x, bars, color='skyblue')\n",
    "    ax.set_xlabel('Partite')\n",
    "    ax.set_ylabel('Numero di Giocatori Assegnati')\n",
    "    ax.set_title('Distribuzione dei Giocatori nelle Partite')\n",
    "    ax.set_xticks(x)\n",
    "    ax.set_xticklabels(labels, rotation=45)\n",
    "    ax.grid(axis='y')\n",
    "\n",
    "    plt.tight_layout()\n",
    "    plt.show()\n",
    "\n",
    "    print('Soluzione trovata:')\n",
    "    for m in range(instancesAvailableMatches):\n",
    "        print(f'Partita {m}: {solver.Value(playersInMatch[m])} giocatori assegnati')\n",
    "else:\n",
    "    print('Nessuna soluzione ottimale trovata')\n"
   ]
  },
  {
   "cell_type": "code",
   "execution_count": null,
   "id": "b27dddbc",
   "metadata": {},
   "outputs": [],
   "source": []
  }
 ],
 "metadata": {
  "kernelspec": {
   "display_name": "Python 3 (ipykernel)",
   "language": "python",
   "name": "python3"
  },
  "language_info": {
   "codemirror_mode": {
    "name": "ipython",
    "version": 3
   },
   "file_extension": ".py",
   "mimetype": "text/x-python",
   "name": "python",
   "nbconvert_exporter": "python",
   "pygments_lexer": "ipython3",
   "version": "3.11.7"
  }
 },
 "nbformat": 4,
 "nbformat_minor": 5
}
