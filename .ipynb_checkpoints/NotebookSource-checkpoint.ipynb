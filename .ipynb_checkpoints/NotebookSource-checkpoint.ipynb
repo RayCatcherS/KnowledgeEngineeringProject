{
 "cells": [
  {
   "cell_type": "markdown",
   "id": "bfc4168f",
   "metadata": {},
   "source": [
    "# Progetto basato su conoscenza\n",
    "Progetto basato su conoscenza per l'esame di Ingegneria Della Conoscenza"
   ]
  },
  {
   "cell_type": "markdown",
   "id": "72bf4bf0",
   "metadata": {},
   "source": [
    "## 1) Introduzione\n",
    "\n",
    "Risultati su studi che intercettano fattori di abbandono dei giochi online multigiocatore, mostrano che le motivazioni più rilevanti sono dovute da: https://www.sciencedirect.com/science/article/abs/pii/S1875952117300770\n",
    "\n",
    "- problemi di attesa, latenza/prestazioni(più rilevanti)\n",
    "- l'equità del gioco(divario tra giocatori).\n",
    "\n",
    "### 1.1) Scenario\n",
    "Si simula lo scenario in cui verrà avviato un nuovo servizio online per il lancio di un nuovo gioco multiplayer. Dato dal picco di giocatori nei primi giorni di uscita del servizio, si prevede si dovrà gestire un carico molto elevato di richieste di partecipazione da parte degli utenti. Si assume che:\n",
    "\n",
    "- Le risorse server potrebbero risultare limitate rispetto alla popolazione di giocatori \n",
    "- Periodicamente viene fornito al sistema un numero limitato di partite istanziabili rispetto alle risorse disponibili\n",
    "- Ci siano un certa popolazione di giocatori in fase di ricerca di una nuova partita\n",
    "- In base a dei lavori di ricerca è stato constatato che giocatori tendono ad abbandonare la ricerca di una partita se: i giocatori attendono in coda da troppo tempo, le partite sono composte da giocatori troppo differenti rendendo il gioco squilibrato e frustrante \n",
    "\n",
    "### 1.2) Obiettivo\n",
    "L'obiettivo di questo problema è ottimizzare al meglio l'utilizzo delle risorse(limitate), massimizzando l'efficienza dei server online per gestire al meglio il picco di giocatori atteso al lancio. Riducendo quindi il rischio di abbandono da parte dei giocatori, dovuto a lunghe attese o a partite squilibrate. Si vuole quindi sviluppare un sistema di modelli basati su conoscenza che sfrutti conoscenza pregressa già disponibile sui giocatori iscritti alla piattaforma, rispetto ai giochi precedentemente giocati.\n",
    "\n",
    "Per favorire i criteri legati ai partecipanti. Sarà quindi fondamentale estrarre conoscenza da quella pregressa, per:\n",
    "- comporre partite di giocatori chegiocando in modo simile rilevando le possibili classi naturali di giocatori(clustering)\n",
    "- classificare periodicamente i nuovi giocatori rispetto alle loro statistiche affinchè vengano assegnati ad una certa classe\n",
    "\n",
    "Un algoritmo di ricerca locale(Local Search for Optimization) costruirà l'assegnazione ottimale(CSP) che codificherà le assegnazioni dei giocatori alle partite secondo le esigenze descritte."
   ]
  },
  {
   "cell_type": "markdown",
   "id": "495d0777",
   "metadata": {},
   "source": [
    "## 2) Dataset\n",
    "Primo tentativo è stato quello ottenere i dati di statistiche tramite web scraping ma a causa del tempo limitato e del **Rate Limiting** posto dalla piattaforma ho optato per cercare un dataset già costruito(generalemente dataset di questo tipo sono rarissimi).\n",
    "Il dataset è ottenuto su [https://www.kaggle.com/datasets/fahadalqahtani/cod-vanguard-stats](Kaggle), un campione di circa trecicimila tuple di statistiche su giocatori del gioco Call Of Duty Vanguard. Le features fornite sono:\n",
    "\n",
    "altro dataset https://tracker.gg/developers/apps/create\n",
    "\n",
    "- **matches**: Numero di partite multigiocatore giocate dal giocatore.\n",
    "- **play_time**: Tempo totale trascorso dal giocatore giocando a Call of Duty, in ore.\n",
    "- **kills**: Numero di uccisioni effettuate dal giocatore in tutte le sue partite.\n",
    "- **deaths**: Numero di volte in cui il giocatore è stato ucciso nel gioco.\n",
    "- **assists**: Numero di volte in cui il giocatore ha danneggiato un nemico ma un compagno di squadra ha completato l'uccisione.\n",
    "- **headshots**: Numero di colpi alla testa inflitti ad altri giocatori.\n",
    "- **suicides**: Numero di volte che il giocatore si è sucidato.\n",
    "- **wins**: Numero di volte in cui il giocatore ha vinto una partita.\n",
    "- **losses**: Numero totale di partite perse.\n",
    "- **score**: Punti Esperienza (XP), una quantità numerica esclusiva per il multigiocatore che determina il livello e il progresso di un giocatore nel gioco.\n",
    "- **missed_shots**: Numero di volte in cui il giocatore ha mancato il colpo.\n",
    "- **hits_shots**: Numero di volte in cui il giocatore ha colpito un altro giocatore.\n",
    "\n",
    "\n",
    "Si assume che i dati utilizzati ottenuti siano parte di conoscenza pregressa appartenente a statistiche del gioco di precedente generazione."
   ]
  },
  {
   "cell_type": "markdown",
   "id": "6ab8b224",
   "metadata": {},
   "source": [
    "## 3) Pre-processing dataset conoscenza pregressa \n",
    "In questa fase si utilizzano librerie ampiamente note, per effettuare pre-processing sui dati grezzi\n",
    "\n",
    "#### 3.1) Feature Derivation\n",
    "Vengono costruite features derivate da quelle di partenza. Queste sono utili per i task successivi:\n",
    "- **game_exits** = gamesPlayed - (wins + losses)\n",
    "- **kd_ratio**: Rapporto uccisioni/morti. Ad esempio, se un giocatore ha 10 uccisioni e 5 morti, il suo rapporto KD è pari a 2"
   ]
  },
  {
   "cell_type": "code",
   "execution_count": 1,
   "id": "edd76aee",
   "metadata": {},
   "outputs": [],
   "source": [
    "import pandas as pd\n",
    "\n",
    "# carica dataset nel dataframe\n",
    "df = pd.read_csv('datasets/cod_vanguard_player_stats_raw.csv')\n",
    "\n",
    "# feature derivation\n",
    "df['kd_ratio'] = df['kills'] / df['deaths']\n",
    "df['game_exits'] = df['matches'] - (df['wins'] + df['losses'])"
   ]
  },
  {
   "cell_type": "markdown",
   "id": "cb1fa3cc",
   "metadata": {},
   "source": [
    "#### 3.2) Data cleaning e rimozione duplicati\n",
    "Questa fase di pre-processing consiste nell'applicare:\n",
    "- **Data Cleaning**: Pulizia di dati con valori nulli e valori negativi(su 13 tuple ci sono 2 valori negativi probabilmente dovuti ad errori durante la raccolta dei dati). Ci sono circa 13 mila tuple, quelle difettose sono di gran lunga minori. Rimuovere le tuple problematiche non andrà ad inficiare l'informatività del dataset. \n",
    "- **Rimozione duplicati**\n",
    "- **Rappresentazione feature play_time**: Ricavare solo il dato numerico dei minuti totali partendo dal formato stringa hours minutes"
   ]
  },
  {
   "cell_type": "code",
   "execution_count": 2,
   "id": "c97edadd",
   "metadata": {},
   "outputs": [],
   "source": [
    "# Data Cleaning - verifica dei valori mancanti\n",
    "'''\n",
    "print('-Verifica valori mancanti-')\n",
    "print(df.isnull().sum())\n",
    "'''\n",
    "# rimozione valori negativi per le features\n",
    "df = df[df['game_exits'] >= 0]\n",
    "\n",
    "\n",
    "# Rimozione duplicati\n",
    "df.drop_duplicates(inplace=True)\n",
    "\n",
    "\n",
    "# conversione stringa hours minutes in valore intero rappresentate i minuti\n",
    "# Funzione per convertire il formato in minuti totali\n",
    "def convert_play_time_to_minutes(play_time_str):\n",
    "    # split stringa\n",
    "    parts = play_time_str.split(' ')\n",
    "    hours = int(parts[0].replace('h', ''))\n",
    "    minutes = int(parts[1].replace('m', ''))\n",
    "    \n",
    "    # tot minuti\n",
    "    total_minutes = hours * 60 + minutes\n",
    "    return total_minutes\n",
    "# applicazione della funzione alla colonna \"play_time\" per convertire tutto in minuti\n",
    "df['play_time'] = df['play_time'].apply(convert_play_time_to_minutes)\n",
    "\n",
    "\n",
    "# salvataggio dataset preprocessed \n",
    "import os\n",
    "file_path = 'datasets/cod_vanguard_player_stats_preprocessed.csv'\n",
    "if os.path.exists(file_path):\n",
    "    os.remove(file_path)\n",
    "    \n",
    "df.to_csv(file_path, index=False)"
   ]
  },
  {
   "cell_type": "markdown",
   "id": "5a48a962",
   "metadata": {},
   "source": [
    "#### 3.3) Outlier\n",
    "Tramite boxplot delle singole features degli esempi, questi sono risultati essere coerenti con una distribuzione realistica e informativa, non ci sono valori eccessivamente anomali o errori."
   ]
  },
  {
   "cell_type": "markdown",
   "id": "36ff68e6",
   "metadata": {},
   "source": [
    "#### 3.4) Normalizzazione delle features\n",
    "Una vulnerabilità del KMeans è quello di essere sensibile a scale di features troppo differenti in termini di dimensioni. Si adopera quindi una tecnica di **scaling** per **standardizzazione** le features. Per la normalizzazione viene usato **z-score** che trasforma la distribuzione di ogni features in una distribuzione normale standard con media 0 e deviazione standard 1. La standardizzazione(o generalmente normalizzazione) consentirà di rendere le diverse features comparabili tra loro, indipendentemente dalla loro scala originale di partenza.\n",
    "Viene quindi generato un secondo dataset normalizzato per il task di apprendimento non supervisionato(KMeans)."
   ]
  },
  {
   "cell_type": "code",
   "execution_count": 6,
   "id": "2457a9c6",
   "metadata": {},
   "outputs": [],
   "source": [
    "from sklearn.preprocessing import StandardScaler\n",
    "\n",
    "dfPreNormalized = pd.read_csv('datasets/cod_vanguard_player_stats_preprocessed.csv')\n",
    "\n",
    "# scaling(z-score)\n",
    "scaler = StandardScaler()\n",
    "features_to_normalize = ['matches', 'play_time', 'kills', 'deaths', 'assists', 'headshots', 'suicides', 'wins', 'losses', 'score', 'missed_shots', 'hits_shots', 'game_exits']\n",
    "dfPreNormalized[features_to_normalize] = scaler.fit_transform(dfPreNormalized[features_to_normalize])\n",
    "\n",
    "\n",
    "# salvataggio del dataframe normalizzato\n",
    "file_path = 'datasets/cod_vanguard_player_stats_normalized_preprocessed_dataset.csv'\n",
    "if os.path.exists(file_path):\n",
    "    os.remove(file_path)\n",
    "dfPreNormalized.to_csv(file_path, index=False)"
   ]
  },
  {
   "cell_type": "markdown",
   "id": "17c7ccd7",
   "metadata": {},
   "source": [
    "## 4) Apprendimento Non Supervisionato\n",
    "Tramite apprendimento non supervisionato si avvalora una certa features Y non conosciuta. Quello che si vuole fare è costruire una **classificazione naturale dei dati** che non conosciamo. Tramite clustering voglio quindi partizionare l'insieme dei giocatori secondo pattern e somiglianze nei dati. Queste somiglianze devono raggruppare giocatori con comportamenti/pattern di gioco simili. \n",
    "\n",
    "#### 4.1)  Utilità del clustering nel problema\n",
    "Specificamente al nostro problema ci servirà intercettare le k classi di giocatori simili, da assegnare all'insieme degli esempi. Dopo aver intercettato le k classi, durante la configurazione delle istanze delle partite di gioco, l'algoritmo di ricerca locale(CSP) utilizzerà l'informazione sulle classi per distribuire nelle partite giocatori della stessa classe, rendendole più equilibrate. L'intento e il funzionamento dell'algoritmo di ricerca viene spiegato più avanti. "
   ]
  },
  {
   "cell_type": "markdown",
   "id": "f3a72d33",
   "metadata": {},
   "source": [
    "## ) Local Search for Optimization(CSP e Ricerca Locale)\n",
    "\n",
    "L'idea è quella di rappresentare il problema dell'assegnazione delle risorse limitate tramite un algoritmo di ricerca rispetto alle assegnazioni sul CSP. Il problema codificherà dei criteri codificandoli tramite **Funzione Obiettivo**/**Soft Constraints** che guideranno la ricerca di una soluzione. \n",
    "\n",
    "A causa della complessità dello spazio di ricerca legato in modo esponenziale rispetto alla quantità di giocatori disponibili, la ricerca non sarà esaustiva, verrà quindi usato un **Algoritmo di Ricerca Locale**. \n",
    "\n",
    "A causa delle risorse limitate(partite istanziabili), alcuni giocatori potrebbero non riuscire ad essere assegnati ad alcuna partita, quindi potrebbe non esistere un'assegnazione(soluzione) che soddisfi tutti i vincoli ma che li soddisfi solo parzialmente. Vogliamo quindi soddisfare quanti più vincoli possibili, trasfare in soft constraints alcuni hard constraints e massimizzare l'ottimalità della soluzione. Per cui l'algoritmo di ricerca locale scelto sarà un algoritmo *Local Search for Optimization*.\n",
    "\n",
    "\n",
    "\n",
    "I criteri che contribuiranno all'ottimizzazione saranno:\n",
    "\n",
    "- **Massimizzare l'utilizzo delle risorse**: Massimizzare il numero totale di giocatori giocanti, cercando di servire quanti più utenti online possibili\n",
    "- **Massimizzare la popolazione della partita**: Massimizzare la popolazione delle partite significherà incentivare il riempimento delle partite, evitando di istanziare partite sottoutilizzate e quindi di utilizzare ulteriori risorse(limitate). \n",
    "---\n",
    "Quindi si vuole veicolare la ricerca verso soluzioni che tendono a riempire tutte le partite istanziate, evitando di generare soluzioni in cui ci sono partite che tendono a non riempirsi. Questo è implementabile aggiungendo una penalità che cresce quando la differenza tra il numero di giocatori in una partita e la capacità massima della partita aumenta.\n",
    "\n",
    "---\n",
    "- **Tempo di attesa dei giocatori in coda**: Minimizzare il numero di giocatori non assegnati ad una partita che sono in attesa da più tempo. Questi verranno preferiti nelle assegnazioni alle partite\n",
    "- **rate quitting**:  Minimizzare il numero di giocatori con un alto tasso di abbandono, sfavorendoli all'assegnazione di una partita. Questo permetterà di favorire giocatori che mantengono le partite piene, inducendo quindi il pieno utilizzo delle risorse server(giocatori che abbandonano facilmente una partita, potrebbero richiedere di partecipare a nuove istanze, portando a non sfruttare pienamente le risorse). \n",
    "- **Partite con giocatori con della stessa classe**: Ad una partita verranno assegnati giocatori che fanno parte della stessa classe naturale(stile di gioco - abilità), riducendo la possibilità che questi giocatori differiscano troppo tra loro\n",
    "\n"
   ]
  },
  {
   "cell_type": "markdown",
   "id": "678e6711",
   "metadata": {},
   "source": [
    "## .2) Google OR-Tools \n",
    "Per il tipo di problema di *Local Search for Optimization* ho deciso di utilizzare la libreria [Google OR-Tools](https://developers.google.com/optimization?hl=it). Questa mi permetterà di gestire aspetti riguardanti:\n",
    "- **Supporto per CSP**: OR-Tools è pensata per risolvere *Constraint Satisfaction Problems (CSP)*\n",
    "- **Gestione di Constraint**: consentendo sia vincoli hard che soft (vincoli hard saranno usati per gestire la capacità massima delle partite)\n",
    "- **Funzione Obiettivo**: che guiderà le soluzioni ottimali\n",
    "- **Tecninche di ricerca locale**: offrendo algoritmi di ricerca locale combinabili con *simulated annealing* e *tabu search*, affrontati durante il corso\n",
    "\n",
    "*La penalità dei soft constraint verrà incorporata nella funzione obiettivo per l'ottimizzazione*"
   ]
  },
  {
   "cell_type": "code",
   "execution_count": 4,
   "id": "9641bda1-a26e-4329-b5ca-4e906f9f133b",
   "metadata": {},
   "outputs": [
    {
     "name": "stdout",
     "output_type": "stream",
     "text": [
      "Requirement already satisfied: ortools in c:\\users\\roman\\anaconda3\\lib\\site-packages (9.11.4210)\n",
      "Requirement already satisfied: absl-py>=2.0.0 in c:\\users\\roman\\anaconda3\\lib\\site-packages (from ortools) (2.1.0)\n",
      "Requirement already satisfied: numpy>=1.13.3 in c:\\users\\roman\\anaconda3\\lib\\site-packages (from ortools) (1.26.4)\n",
      "Requirement already satisfied: pandas>=2.0.0 in c:\\users\\roman\\anaconda3\\lib\\site-packages (from ortools) (2.1.4)\n",
      "Requirement already satisfied: protobuf<5.27,>=5.26.1 in c:\\users\\roman\\anaconda3\\lib\\site-packages (from ortools) (5.26.1)\n",
      "Requirement already satisfied: immutabledict>=3.0.0 in c:\\users\\roman\\anaconda3\\lib\\site-packages (from ortools) (4.2.0)\n",
      "Requirement already satisfied: python-dateutil>=2.8.2 in c:\\users\\roman\\anaconda3\\lib\\site-packages (from pandas>=2.0.0->ortools) (2.8.2)\n",
      "Requirement already satisfied: pytz>=2020.1 in c:\\users\\roman\\anaconda3\\lib\\site-packages (from pandas>=2.0.0->ortools) (2023.3.post1)\n",
      "Requirement already satisfied: tzdata>=2022.1 in c:\\users\\roman\\anaconda3\\lib\\site-packages (from pandas>=2.0.0->ortools) (2023.3)\n",
      "Requirement already satisfied: six>=1.5 in c:\\users\\roman\\anaconda3\\lib\\site-packages (from python-dateutil>=2.8.2->pandas>=2.0.0->ortools) (1.16.0)\n"
     ]
    }
   ],
   "source": [
    "#Installazione Google OR-Tools\n",
    "!pip install ortools"
   ]
  },
  {
   "cell_type": "code",
   "execution_count": 5,
   "id": "ed75a32d",
   "metadata": {},
   "outputs": [
    {
     "name": "stdout",
     "output_type": "stream",
     "text": [
      "[player_assignment_0(-1..15), player_assignment_1(-1..15), player_assignment_2(-1..15), player_assignment_3(-1..15), player_assignment_4(-1..15), player_assignment_5(-1..15), player_assignment_6(-1..15), player_assignment_7(-1..15), player_assignment_8(-1..15), player_assignment_9(-1..15), player_assignment_10(-1..15), player_assignment_11(-1..15), player_assignment_12(-1..15), player_assignment_13(-1..15), player_assignment_14(-1..15), player_assignment_15(-1..15), player_assignment_16(-1..15), player_assignment_17(-1..15), player_assignment_18(-1..15), player_assignment_19(-1..15), player_assignment_20(-1..15), player_assignment_21(-1..15), player_assignment_22(-1..15), player_assignment_23(-1..15), player_assignment_24(-1..15), player_assignment_25(-1..15), player_assignment_26(-1..15), player_assignment_27(-1..15), player_assignment_28(-1..15), player_assignment_29(-1..15), player_assignment_30(-1..15), player_assignment_31(-1..15), player_assignment_32(-1..15), player_assignment_33(-1..15), player_assignment_34(-1..15), player_assignment_35(-1..15), player_assignment_36(-1..15), player_assignment_37(-1..15), player_assignment_38(-1..15), player_assignment_39(-1..15), player_assignment_40(-1..15), player_assignment_41(-1..15), player_assignment_42(-1..15), player_assignment_43(-1..15), player_assignment_44(-1..15), player_assignment_45(-1..15), player_assignment_46(-1..15), player_assignment_47(-1..15), player_assignment_48(-1..15), player_assignment_49(-1..15), player_assignment_50(-1..15), player_assignment_51(-1..15), player_assignment_52(-1..15), player_assignment_53(-1..15), player_assignment_54(-1..15), player_assignment_55(-1..15), player_assignment_56(-1..15), player_assignment_57(-1..15), player_assignment_58(-1..15), player_assignment_59(-1..15), player_assignment_60(-1..15), player_assignment_61(-1..15), player_assignment_62(-1..15), player_assignment_63(-1..15), player_assignment_64(-1..15), player_assignment_65(-1..15), player_assignment_66(-1..15), player_assignment_67(-1..15), player_assignment_68(-1..15), player_assignment_69(-1..15), player_assignment_70(-1..15), player_assignment_71(-1..15), player_assignment_72(-1..15), player_assignment_73(-1..15), player_assignment_74(-1..15), player_assignment_75(-1..15), player_assignment_76(-1..15), player_assignment_77(-1..15), player_assignment_78(-1..15), player_assignment_79(-1..15), player_assignment_80(-1..15), player_assignment_81(-1..15), player_assignment_82(-1..15), player_assignment_83(-1..15), player_assignment_84(-1..15), player_assignment_85(-1..15), player_assignment_86(-1..15), player_assignment_87(-1..15), player_assignment_88(-1..15), player_assignment_89(-1..15), player_assignment_90(-1..15), player_assignment_91(-1..15), player_assignment_92(-1..15), player_assignment_93(-1..15), player_assignment_94(-1..15), player_assignment_95(-1..15), player_assignment_96(-1..15), player_assignment_97(-1..15), player_assignment_98(-1..15), player_assignment_99(-1..15), player_assignment_100(-1..15), player_assignment_101(-1..15), player_assignment_102(-1..15), player_assignment_103(-1..15), player_assignment_104(-1..15), player_assignment_105(-1..15), player_assignment_106(-1..15), player_assignment_107(-1..15), player_assignment_108(-1..15), player_assignment_109(-1..15), player_assignment_110(-1..15), player_assignment_111(-1..15), player_assignment_112(-1..15), player_assignment_113(-1..15), player_assignment_114(-1..15), player_assignment_115(-1..15), player_assignment_116(-1..15), player_assignment_117(-1..15), player_assignment_118(-1..15), player_assignment_119(-1..15), player_assignment_120(-1..15), player_assignment_121(-1..15), player_assignment_122(-1..15), player_assignment_123(-1..15), player_assignment_124(-1..15), player_assignment_125(-1..15), player_assignment_126(-1..15), player_assignment_127(-1..15), player_assignment_128(-1..15), player_assignment_129(-1..15), player_assignment_130(-1..15), player_assignment_131(-1..15), player_assignment_132(-1..15), player_assignment_133(-1..15), player_assignment_134(-1..15), player_assignment_135(-1..15), player_assignment_136(-1..15), player_assignment_137(-1..15), player_assignment_138(-1..15), player_assignment_139(-1..15), player_assignment_140(-1..15), player_assignment_141(-1..15), player_assignment_142(-1..15), player_assignment_143(-1..15), player_assignment_144(-1..15), player_assignment_145(-1..15), player_assignment_146(-1..15), player_assignment_147(-1..15), player_assignment_148(-1..15), player_assignment_149(-1..15), player_assignment_150(-1..15), player_assignment_151(-1..15), player_assignment_152(-1..15), player_assignment_153(-1..15), player_assignment_154(-1..15), player_assignment_155(-1..15), player_assignment_156(-1..15), player_assignment_157(-1..15), player_assignment_158(-1..15), player_assignment_159(-1..15), player_assignment_160(-1..15), player_assignment_161(-1..15), player_assignment_162(-1..15), player_assignment_163(-1..15), player_assignment_164(-1..15), player_assignment_165(-1..15), player_assignment_166(-1..15), player_assignment_167(-1..15), player_assignment_168(-1..15), player_assignment_169(-1..15), player_assignment_170(-1..15), player_assignment_171(-1..15), player_assignment_172(-1..15), player_assignment_173(-1..15), player_assignment_174(-1..15), player_assignment_175(-1..15), player_assignment_176(-1..15), player_assignment_177(-1..15), player_assignment_178(-1..15), player_assignment_179(-1..15), player_assignment_180(-1..15), player_assignment_181(-1..15), player_assignment_182(-1..15), player_assignment_183(-1..15), player_assignment_184(-1..15), player_assignment_185(-1..15), player_assignment_186(-1..15), player_assignment_187(-1..15), player_assignment_188(-1..15), player_assignment_189(-1..15), player_assignment_190(-1..15), player_assignment_191(-1..15), player_assignment_192(-1..15), player_assignment_193(-1..15), player_assignment_194(-1..15), player_assignment_195(-1..15), player_assignment_196(-1..15), player_assignment_197(-1..15), player_assignment_198(-1..15), player_assignment_199(-1..15)]\n",
      "[match_assignment_0(0..3), match_assignment_1(0..3), match_assignment_2(0..3), match_assignment_3(0..3), match_assignment_4(0..3), match_assignment_5(0..3), match_assignment_6(0..3), match_assignment_7(0..3), match_assignment_8(0..3), match_assignment_9(0..3), match_assignment_10(0..3), match_assignment_11(0..3), match_assignment_12(0..3), match_assignment_13(0..3), match_assignment_14(0..3)]\n"
     ]
    }
   ],
   "source": [
    "# importazione della libreria Google OR-Tools\n",
    "from ortools.sat.python import cp_model\n",
    "\n",
    "# creazione del modello\n",
    "model = cp_model.CpModel()\n",
    "\n",
    "\n",
    "# configurazione parametri\n",
    "availablePlayers = 200 # giocatori dispobili\n",
    "instancesAvailableMatches = 15 # istanze partite disponibili ad essere avviate\n",
    "playerCapacityMatches = 10 # capacità partite\n",
    "playersClassCount = 3; # numero di classi di abilità per i giocatori\n",
    "\n",
    "\n",
    "# inizializzazione variabili CSP giocatori\n",
    "playerAssignment = []\n",
    "for i in range(availablePlayers):\n",
    "    cspPVar = model.NewIntVar(\n",
    "        \n",
    "        # range dominio variabile (un valore nel range indicherà a quale partita è assegnato il giocatore)\n",
    "        # -1 indica che il giocatre non è stato assegnato a nessuna partita\n",
    "        -1, instancesAvailableMatches,\n",
    "        f'player_assignment_{i}' # etichetta variabile CSP\n",
    "    )\n",
    "    playerAssignment.append(cspPVar)\n",
    "    \n",
    "    \n",
    "    \n",
    "    \n",
    "# inizializzazione variabili CSP istanze partite\n",
    "matchAssignment = []\n",
    "for i in range(instancesAvailableMatches):\n",
    "    cspMVar = model.NewIntVar(\n",
    "        \n",
    "        # range dominio variabile (valore nel range indicherà che classe di giocatori ospiterà la partita)\n",
    "        0, playersClassCount, \n",
    "        f'match_assignment_{i}' # etichetta variabile CSP\n",
    "    )\n",
    "    matchAssignment.append(cspMVar)\n",
    "\n",
    "    \n",
    "    \n",
    "    \n",
    "# inizializzazione hard constraints\n",
    "\n",
    "\n",
    "print(playerAssignment)\n",
    "print(matchAssignment)"
   ]
  }
 ],
 "metadata": {
  "kernelspec": {
   "display_name": "Python 3 (ipykernel)",
   "language": "python",
   "name": "python3"
  },
  "language_info": {
   "codemirror_mode": {
    "name": "ipython",
    "version": 3
   },
   "file_extension": ".py",
   "mimetype": "text/x-python",
   "name": "python",
   "nbconvert_exporter": "python",
   "pygments_lexer": "ipython3",
   "version": "3.11.7"
  }
 },
 "nbformat": 4,
 "nbformat_minor": 5
}
