{
 "cells": [
  {
   "cell_type": "markdown",
   "id": "bfc4168f",
   "metadata": {},
   "source": [
    "# Progetto basato su conoscenza\n",
    "Progetto basato su conoscenza per l'esame di Ingegneria Della Conoscenza"
   ]
  },
  {
   "cell_type": "markdown",
   "id": "f3a72d33",
   "metadata": {},
   "source": [
    "## 1) Local Search for Optimization(CSP e Ricerca Locale)\n",
    "Si simula lo scenario in cui si vogliono sfruttare al meglio le risorse dedicate ai server online per il lancio di un nuovo gioco multiplayer. Si assume che si voglia gestire un carico molto elevato di richieste di partecipazione, dato dal picco di giocatori rispetto alla nuova uscita. \n",
    "Essendo le risorse server limitate, si assume che ad ogni certo istante, il sistema possa indichi un tot di partite istanziabili rispetto alle sue capacità. Si assume che ci siano un certo numero di giocatori in fase di ricerca di una nuova partita. \n",
    "\n",
    "\n",
    "\n",
    "L'obiettivo di questo problema è ottimizzare al meglio l'utilizzo delle risorse(limitate) dei server usati per istanziare partite online, favorendo dei criteri legati ai partecipanti. L'idea è quella di rappresentare il problema dell'assegnazione delle risorse limitate tramite un algoritmo di ricerca rispetto alle assegnazioni sul CSP. Il problema codificherà dei criteri codificandoli tramite **Funzione Obiettivo**/**Soft Constraints** che guideranno la ricerca di una soluzione. \n",
    "\n",
    "A causa della complessità dello spazio di ricerca legato in modo esponenziale rispetto alla quantità di giocatori disponibili, la ricerca non sarà esaustiva, verrà quindi usato un **Algoritmo di Ricerca Locale**. \n",
    "\n",
    "A causa delle risorse limitate(partite istanziabili), alcuni giocatori potrebbero non riuscire ad essere assegnati ad alcuna partita, quindi potrebbe non esistere un'assegnazione(soluzione) che soddisfi tutti i vincoli ma che li soddisfi solo parzialmente. Vogliamo quindi soddisfare quanti più vincoli possibili, trasfare in soft constraints alcuni hard constraints e massimizzare l'ottimalità della soluzione. Per cui l'algoritmo di ricerca locale scelto sarà un algoritmo *Local Search for Optimization*.\n",
    "\n",
    "\n",
    "\n",
    "I criteri che contribuiranno all'ottimizzazione saranno:\n",
    "\n",
    "- **Massimizzare l'utilizzo delle risorse**: Massimizzare il numero totale di giocatori giocanti, cercando di servire quanti più utenti online possibili\n",
    "- **Massimizzare la popolazione della partita**: Massimizzare la popolazione delle partite significherà evitare di dover istanziare ulteriori risorse(partite) essendo queste limitate. Quindi si vuole veicolare la ricerca di soluzioni verso soluzioni che tendono a riempire tutte le partite istanziate, evitando di generare soluzione in cui ci sono partite che tendono a non riempirsi\n",
    "- **Tempo di attesa dei giocatori in coda**: Minimizzare il numero di giocatori non assegnati ad una partita che sono in attesa da più tempo. Questi verranno preferiti nelle assegnazioni alle partite\n",
    "- **rate quitting**:  Minimizzare il numero di giocatori con un alto tasso di abbandono, sfavorendoli all'assegnazione di una partita. Questo permetterà di favorire giocatori che mantengono le partite piene, inducendo quindi il pieno utilizzo delle risorse server(giocatori che abbandonano facilmente una partita, potrebbero richiedere di partecipare a nuove istanze, portando a non sfruttare pienamente le risorse). \n",
    "- **Partite con giocatori con della stessa classe**: Ad una partita verranno assegnati giocatori che fanno parte della stessa classe naturale(stile di gioco - abilità), riducendo la possibilità che questi giocatori differiscano troppo tra loro\n",
    "\n"
   ]
  },
  {
   "cell_type": "markdown",
   "id": "678e6711",
   "metadata": {},
   "source": [
    "## 1.2) Google OR-Tools \n",
    "Per il tipo di problema di *Local Search for Optimization* ho deciso di utilizzare la libreria [Google OR-Tools](https://developers.google.com/optimization?hl=it). Questa mi permetterà di gestire aspetti riguardanti:\n",
    "- **Supporto per CSP**: OR-Tools è pensata per risolvere *Constraint Satisfaction Problems (CSP)*\n",
    "- **Gestione di Constraint**: consentendo sia vincoli hard che soft (vincoli hard saranno usati per gestire la capacità massima delle partite)\n",
    "- **Funzione Obiettivo**: che guiderà le soluzioni ottimali\n",
    "- **Tecninche di ricerca locale**: offrendo algoritmi di ricerca locale combinabili con *simulated annealing* e *tabu search*, affrontati durante il corso\n",
    "\n",
    "*La penalità dei soft constraint verrà incorporata nella funzione obiettivo per l'ottimizzazione*"
   ]
  },
  {
   "cell_type": "code",
   "execution_count": 9,
   "id": "9641bda1-a26e-4329-b5ca-4e906f9f133b",
   "metadata": {
    "collapsed": true
   },
   "outputs": [
    {
     "name": "stdout",
     "output_type": "stream",
     "text": [
      "Requirement already satisfied: ortools in c:\\users\\roman\\anaconda3\\lib\\site-packages (9.11.4210)\n",
      "Requirement already satisfied: absl-py>=2.0.0 in c:\\users\\roman\\anaconda3\\lib\\site-packages (from ortools) (2.1.0)\n",
      "Requirement already satisfied: numpy>=1.13.3 in c:\\users\\roman\\anaconda3\\lib\\site-packages (from ortools) (1.26.4)\n",
      "Requirement already satisfied: pandas>=2.0.0 in c:\\users\\roman\\anaconda3\\lib\\site-packages (from ortools) (2.1.4)\n",
      "Requirement already satisfied: protobuf<5.27,>=5.26.1 in c:\\users\\roman\\anaconda3\\lib\\site-packages (from ortools) (5.26.1)\n",
      "Requirement already satisfied: immutabledict>=3.0.0 in c:\\users\\roman\\anaconda3\\lib\\site-packages (from ortools) (4.2.0)\n",
      "Requirement already satisfied: python-dateutil>=2.8.2 in c:\\users\\roman\\anaconda3\\lib\\site-packages (from pandas>=2.0.0->ortools) (2.8.2)\n",
      "Requirement already satisfied: pytz>=2020.1 in c:\\users\\roman\\anaconda3\\lib\\site-packages (from pandas>=2.0.0->ortools) (2023.3.post1)\n",
      "Requirement already satisfied: tzdata>=2022.1 in c:\\users\\roman\\anaconda3\\lib\\site-packages (from pandas>=2.0.0->ortools) (2023.3)\n",
      "Requirement already satisfied: six>=1.5 in c:\\users\\roman\\anaconda3\\lib\\site-packages (from python-dateutil>=2.8.2->pandas>=2.0.0->ortools) (1.16.0)\n"
     ]
    }
   ],
   "source": [
    "#Installazione Google OR-Tools\n",
    "!pip install ortools"
   ]
  },
  {
   "cell_type": "code",
   "execution_count": 11,
   "id": "ed75a32d",
   "metadata": {},
   "outputs": [
    {
     "name": "stdout",
     "output_type": "stream",
     "text": [
      "[player_assignment_0(0..15), player_assignment_1(0..15), player_assignment_2(0..15), player_assignment_3(0..15), player_assignment_4(0..15), player_assignment_5(0..15), player_assignment_6(0..15), player_assignment_7(0..15), player_assignment_8(0..15), player_assignment_9(0..15), player_assignment_10(0..15), player_assignment_11(0..15), player_assignment_12(0..15), player_assignment_13(0..15), player_assignment_14(0..15), player_assignment_15(0..15), player_assignment_16(0..15), player_assignment_17(0..15), player_assignment_18(0..15), player_assignment_19(0..15), player_assignment_20(0..15), player_assignment_21(0..15), player_assignment_22(0..15), player_assignment_23(0..15), player_assignment_24(0..15), player_assignment_25(0..15), player_assignment_26(0..15), player_assignment_27(0..15), player_assignment_28(0..15), player_assignment_29(0..15), player_assignment_30(0..15), player_assignment_31(0..15), player_assignment_32(0..15), player_assignment_33(0..15), player_assignment_34(0..15), player_assignment_35(0..15), player_assignment_36(0..15), player_assignment_37(0..15), player_assignment_38(0..15), player_assignment_39(0..15), player_assignment_40(0..15), player_assignment_41(0..15), player_assignment_42(0..15), player_assignment_43(0..15), player_assignment_44(0..15), player_assignment_45(0..15), player_assignment_46(0..15), player_assignment_47(0..15), player_assignment_48(0..15), player_assignment_49(0..15), player_assignment_50(0..15), player_assignment_51(0..15), player_assignment_52(0..15), player_assignment_53(0..15), player_assignment_54(0..15), player_assignment_55(0..15), player_assignment_56(0..15), player_assignment_57(0..15), player_assignment_58(0..15), player_assignment_59(0..15), player_assignment_60(0..15), player_assignment_61(0..15), player_assignment_62(0..15), player_assignment_63(0..15), player_assignment_64(0..15), player_assignment_65(0..15), player_assignment_66(0..15), player_assignment_67(0..15), player_assignment_68(0..15), player_assignment_69(0..15), player_assignment_70(0..15), player_assignment_71(0..15), player_assignment_72(0..15), player_assignment_73(0..15), player_assignment_74(0..15), player_assignment_75(0..15), player_assignment_76(0..15), player_assignment_77(0..15), player_assignment_78(0..15), player_assignment_79(0..15), player_assignment_80(0..15), player_assignment_81(0..15), player_assignment_82(0..15), player_assignment_83(0..15), player_assignment_84(0..15), player_assignment_85(0..15), player_assignment_86(0..15), player_assignment_87(0..15), player_assignment_88(0..15), player_assignment_89(0..15), player_assignment_90(0..15), player_assignment_91(0..15), player_assignment_92(0..15), player_assignment_93(0..15), player_assignment_94(0..15), player_assignment_95(0..15), player_assignment_96(0..15), player_assignment_97(0..15), player_assignment_98(0..15), player_assignment_99(0..15), player_assignment_100(0..15), player_assignment_101(0..15), player_assignment_102(0..15), player_assignment_103(0..15), player_assignment_104(0..15), player_assignment_105(0..15), player_assignment_106(0..15), player_assignment_107(0..15), player_assignment_108(0..15), player_assignment_109(0..15), player_assignment_110(0..15), player_assignment_111(0..15), player_assignment_112(0..15), player_assignment_113(0..15), player_assignment_114(0..15), player_assignment_115(0..15), player_assignment_116(0..15), player_assignment_117(0..15), player_assignment_118(0..15), player_assignment_119(0..15), player_assignment_120(0..15), player_assignment_121(0..15), player_assignment_122(0..15), player_assignment_123(0..15), player_assignment_124(0..15), player_assignment_125(0..15), player_assignment_126(0..15), player_assignment_127(0..15), player_assignment_128(0..15), player_assignment_129(0..15), player_assignment_130(0..15), player_assignment_131(0..15), player_assignment_132(0..15), player_assignment_133(0..15), player_assignment_134(0..15), player_assignment_135(0..15), player_assignment_136(0..15), player_assignment_137(0..15), player_assignment_138(0..15), player_assignment_139(0..15), player_assignment_140(0..15), player_assignment_141(0..15), player_assignment_142(0..15), player_assignment_143(0..15), player_assignment_144(0..15), player_assignment_145(0..15), player_assignment_146(0..15), player_assignment_147(0..15), player_assignment_148(0..15), player_assignment_149(0..15), player_assignment_150(0..15), player_assignment_151(0..15), player_assignment_152(0..15), player_assignment_153(0..15), player_assignment_154(0..15), player_assignment_155(0..15), player_assignment_156(0..15), player_assignment_157(0..15), player_assignment_158(0..15), player_assignment_159(0..15), player_assignment_160(0..15), player_assignment_161(0..15), player_assignment_162(0..15), player_assignment_163(0..15), player_assignment_164(0..15), player_assignment_165(0..15), player_assignment_166(0..15), player_assignment_167(0..15), player_assignment_168(0..15), player_assignment_169(0..15), player_assignment_170(0..15), player_assignment_171(0..15), player_assignment_172(0..15), player_assignment_173(0..15), player_assignment_174(0..15), player_assignment_175(0..15), player_assignment_176(0..15), player_assignment_177(0..15), player_assignment_178(0..15), player_assignment_179(0..15), player_assignment_180(0..15), player_assignment_181(0..15), player_assignment_182(0..15), player_assignment_183(0..15), player_assignment_184(0..15), player_assignment_185(0..15), player_assignment_186(0..15), player_assignment_187(0..15), player_assignment_188(0..15), player_assignment_189(0..15), player_assignment_190(0..15), player_assignment_191(0..15), player_assignment_192(0..15), player_assignment_193(0..15), player_assignment_194(0..15), player_assignment_195(0..15), player_assignment_196(0..15), player_assignment_197(0..15), player_assignment_198(0..15), player_assignment_199(0..15)]\n",
      "[match_assignment_0(0..3), match_assignment_1(0..3), match_assignment_2(0..3), match_assignment_3(0..3), match_assignment_4(0..3), match_assignment_5(0..3), match_assignment_6(0..3), match_assignment_7(0..3), match_assignment_8(0..3), match_assignment_9(0..3), match_assignment_10(0..3), match_assignment_11(0..3), match_assignment_12(0..3), match_assignment_13(0..3), match_assignment_14(0..3)]\n"
     ]
    }
   ],
   "source": [
    "# importazione della libreria Google OR-Tools\n",
    "from ortools.sat.python import cp_model\n",
    "\n",
    "# creazione del modello\n",
    "model = cp_model.CpModel()\n",
    "\n",
    "\n",
    "\n",
    "# configurazione parametri\n",
    "availablePlayers = 200 # giocatori dispobili\n",
    "instancesAvailableMatches = 15 # istanze partite disponibili ad essere avviate\n",
    "playerCapacityMatches = 10 # capacità partite\n",
    "playersClassCount = 3; # numero di classi di abilità per i giocatori\n",
    "\n",
    "\n",
    "\n",
    "\n",
    "# inizializzazione variabili CSP giocatori\n",
    "playerAssignment = []\n",
    "for i in range(availablePlayers):\n",
    "    cspPVar = model.NewIntVar(\n",
    "        \n",
    "        # range dominio variabile (un valore nel range indicherà a quale partita è assegnato il giocatore)\n",
    "        # -1 indica che il giocatre non è stato assegnato a nessuna partita\n",
    "        -1, instancesAvailableMatches,\n",
    "        f'player_assignment_{i}' # etichetta variabile CSP\n",
    "    )\n",
    "    playerAssignment.append(cspPVar)\n",
    "    \n",
    "    \n",
    "    \n",
    "    \n",
    "# inizializzazione variabili CSP istanze partite\n",
    "matchAssignment = []\n",
    "for i in range(instancesAvailableMatches):\n",
    "    cspMVar = model.NewIntVar(\n",
    "        \n",
    "        # range dominio variabile (valore nel range indicherà che classe di giocatori ospiterà la partita)\n",
    "        0, playersClassCount, \n",
    "        f'match_assignment_{i}' # etichetta variabile CSP\n",
    "    )\n",
    "    matchAssignment.append(cspMVar)\n",
    "\n",
    "    \n",
    "    \n",
    "    \n",
    "# inizializzazione hard constraints\n",
    "\n",
    "\n",
    "print(playerAssignment)\n",
    "print(matchAssignment)"
   ]
  },
  {
   "cell_type": "code",
   "execution_count": 1,
   "id": "c7861ac8-ed45-4564-b132-a9ba85be3f2b",
   "metadata": {},
   "outputs": [],
   "source": [
    "'''\n",
    "import pandas as pd\n",
    "\n",
    "\n",
    "# Creiamo un dataframe di esempio\n",
    "data = {\n",
    "    'Nome': ['Mario', 'Luigi', 'Peach'],\n",
    "    'Età': [23, 24, 25]\n",
    "}\n",
    "df = pd.DataFrame(data)\n",
    "\n",
    "# Salviamo il dataframe come CSV\n",
    "df.to_csv('persone.csv', index=False)\n",
    "'''"
   ]
  }
 ],
 "metadata": {
  "kernelspec": {
   "display_name": "Python 3 (ipykernel)",
   "language": "python",
   "name": "python3"
  },
  "language_info": {
   "codemirror_mode": {
    "name": "ipython",
    "version": 3
   },
   "file_extension": ".py",
   "mimetype": "text/x-python",
   "name": "python",
   "nbconvert_exporter": "python",
   "pygments_lexer": "ipython3",
   "version": "3.11.7"
  }
 },
 "nbformat": 4,
 "nbformat_minor": 5
}
