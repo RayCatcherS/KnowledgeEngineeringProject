{
 "cells": [
  {
   "cell_type": "markdown",
   "id": "bfc4168f",
   "metadata": {},
   "source": [
    "# Progetto basato su conoscenza\n",
    "Progetto basato su conoscenza per l'esame di Ingegneria Della Conoscenza"
   ]
  },
  {
   "cell_type": "markdown",
   "id": "72bf4bf0",
   "metadata": {},
   "source": [
    "## Introduzione\n",
    "\n",
    "Risultati su studi che intercettano fattori di abbandono dei giochi online multigiocatore, mostrano che le motivazioni più rilevanti sono dovute da: https://www.sciencedirect.com/science/article/abs/pii/S1875952117300770\n",
    "\n",
    "- problemi di attesa, latenza/prestazioni(più rilevanti)\n",
    "- l'equità del gioco(divario tra giocatori).\n",
    "\n",
    "### Scenario\n",
    "Si simula lo scenario in cui verrà avviato un nuovo servizio online per il lancio di un nuovo gioco multiplayer. Dato dal picco di giocatori nei primi giorni di uscita del servizio, si prevede si dovrà gestire un carico molto elevato di richieste di partecipazione da parte degli utenti. Si assume che:\n",
    "\n",
    "- Le risorse server potrebbero risultare limitate rispetto alla popolazione di giocatori \n",
    "- Periodicamente viene fornito al sistema un numero limitato di partite istanziabili rispetto alle risorse disponibili\n",
    "- Ci siano un certa popolazione di giocatori in fase di ricerca di una nuova partita\n",
    "- In base a dei lavori di ricerca è stato constatato che giocatori tendono ad abbandonare la ricerca di una partita se: i giocatori attendono in coda da troppo tempo, le partite sono composte da giocatori troppo differenti rendendo il gioco squilibrato e frustrante \n",
    "\n",
    "### Obiettivo\n",
    "L'obiettivo di questo problema è ottimizzare al meglio l'utilizzo delle risorse(limitate), massimizzando l'efficienza dei server online per gestire al meglio il picco di giocatori atteso al lancio. Riducendo quindi il rischio di abbandono da parte dei giocatori, dovuto a lunghe attese o a partite squilibrate. Si vuole quindi sviluppare un sistema di modelli basati su conoscenza che sfrutti conoscenza pregressa già disponibile sui giocatori iscritti alla piattaforma, rispetto ai giochi precedentemente giocati.\n",
    "\n",
    "Per favorire i criteri legati ai partecipanti. Sarà quindi fondamentale estrarre conoscenza da quella pregressa, per:\n",
    "- comporre partite di giocatori chegiocando in modo simile rilevando le possibili classi naturali di giocatori(clustering)\n",
    "- classificare periodicamente i nuovi giocatori rispetto alle loro statistiche affinchè vengano assegnati ad una certa classe\n",
    "\n",
    "Un algoritmo di ricerca locale(Local Search for Optimization) costruirà l'assegnazione ottimale(CSP) che codificherà le assegnazioni dei giocatori alle partite secondo le esigenze descritte."
   ]
  },
  {
   "cell_type": "markdown",
   "id": "495d0777",
   "metadata": {},
   "source": [
    "## 1) Dataset\n",
    "Primo tentativo è stato quello ottenere i dati di statistiche tramite web scraping ma a causa del tempo limitato e del **Rate Limiting** posto dalla piattaforma ho deciso di provare a cercare un dataset già costruito(generalemente dataset di questo tipo sono rarissimi).\n",
    "Il dataset è ottenuto su [https://www.kaggle.com/datasets/fahadalqahtani/cod-vanguard-stats](custom API) per ottenere statistiche sui giocatori del gioco Call Of Duty Vanguard. Le features fornite sono:\n",
    "\n",
    "altro dataset https://tracker.gg/developers/apps/create\n",
    "\n",
    "- **matches**: Numero di partite multigiocatore giocate dal giocatore.\n",
    "- **play_time**: Tempo totale trascorso dal giocatore giocando a Call of Duty, in ore.\n",
    "- **kills**: Numero di uccisioni effettuate dal giocatore in tutte le sue partite.\n",
    "- **deaths**: Numero di volte in cui il giocatore è stato ucciso nel gioco.\n",
    "- **assists**: Numero di volte in cui il giocatore ha danneggiato un nemico ma un compagno di squadra ha completato l'uccisione.\n",
    "- **headshots**: Numero di colpi alla testa inflitti ad altri giocatori.\n",
    "- **suicides**: Numero di volte che il giocatore si è sucidato.\n",
    "- **wins**: Numero di volte in cui il giocatore ha vinto una partita.\n",
    "- **losses**: Numero totale di partite perse.\n",
    "- **score**: Punti Esperienza (XP), una quantità numerica esclusiva per il multigiocatore che determina il livello e il progresso di un giocatore nel gioco.\n",
    "- **missed_shots**: Numero di volte in cui il giocatore ha mancato il colpo.\n",
    "- **hits_shots**: Numero di volte in cui il giocatore ha colpito un altro giocatore.\n",
    "\n",
    "\n",
    "\n"
   ]
  },
  {
   "cell_type": "markdown",
   "id": "6ab8b224",
   "metadata": {},
   "source": [
    "## 2) Pre-processing dataset conoscenza pregressa \n",
    "\n",
    "#### 2.1) Feature Derivation\n",
    "In questa fase vengono costruite features derivate da quelle di partenza. Queste sono utili per i task successivi:\n",
    "- game_exits = gamesPlayed - (wins + losses)\n",
    "- **kd_ratio**: Rapporto uccisioni/morti. Ad esempio, se un giocatore ha 10 uccisioni e 5 morti, il suo rapporto KD è pari a 2"
   ]
  },
  {
   "cell_type": "code",
   "execution_count": 1,
   "id": "edd76aee",
   "metadata": {},
   "outputs": [],
   "source": [
    "import pandas as pd\n",
    "\n",
    "# carica dataset nel dataframe\n",
    "df = pd.read_csv('datasets/cod_vanguard_player_stats.csv')\n",
    "\n",
    "# feature derivation\n",
    "df['kd_ratio'] = df['kills'] / df['deaths']\n",
    "df['game_exits'] = df['matches'] - (df['wins'] + df['losses'])\n",
    "\n",
    "# rimozione valori negativi per le features\n",
    "df = df[df['game_exits'] >= 0]\n"
   ]
  },
  {
   "cell_type": "markdown",
   "id": "cb1fa3cc",
   "metadata": {},
   "source": [
    "#### 2.1) Pre-processing iniziale\n",
    "Una prima fase di pre-processing consisterà nella:\n",
    "- **Data Cleaning**: Pulizia di dati con valori nulli e valori negativi(su 13 tuple ci sono 2 valori negativi probabilmente dovuti ad errori durante la raccolta dei dati)\n",
    "- **Rimozione duplicati**\n",
    "- **Rimozione outlier**: essendo solo un campione della reale distribuzione sventiamo la possibilità che modelli basati su apprendimento possano adattarsi a una distribuzione non naturale dei dati. Il metodo usato per scartare gli outlierè stato quello di visualizzare i plot e applicare il **metodo dell'intervallo interquartile(IQR filtering)** dove necessario(punti oltre i whiskers, al di fuori dell'intervallo definito da 1.5 volte l'IQR sopra Q3 e al di sotto di Q1). *Per non appesantire la documentazione la visualizzazione dei plot è stata commentata*\n",
    "- **Normalizzazione delle features**"
   ]
  },
  {
   "cell_type": "code",
   "execution_count": 2,
   "id": "c97edadd",
   "metadata": {},
   "outputs": [
    {
     "data": {
      "text/plain": [
       "'\\nsns.histplot(df[\\'matches\\'], kde=True)  # kde=True aggiunge la curva di densità\\nplt.title(\"distribuzione di \\'matches\\' con curva di densità\")\\nplt.xlabel(\"valori di \\'matches\\'\")\\nplt.ylabel(\"densità\")\\nplt.show()\\n\\nsns.boxplot(data=df, y=\\'matches\\')\\nplt.show()\\n'"
      ]
     },
     "execution_count": 2,
     "metadata": {},
     "output_type": "execute_result"
    }
   ],
   "source": [
    "# verifica dei valori mancanti\n",
    "'''\n",
    "print('-Verifica valori mancanti-')\n",
    "print(df.isnull().sum())\n",
    "'''\n",
    "\n",
    "# rimozione duplicati\n",
    "df.drop_duplicates(inplace=True)\n",
    "\n",
    "#rimozione outlier\n",
    "import matplotlib.pyplot as plt\n",
    "import seaborn as sns\n",
    "\n",
    "'''\n",
    "sns.histplot(df['matches'], kde=True)  # kde=True aggiunge la curva di densità\n",
    "plt.title(\"distribuzione di 'matches' con curva di densità\")\n",
    "plt.xlabel(\"valori di 'matches'\")\n",
    "plt.ylabel(\"densità\")\n",
    "plt.show()\n",
    "\n",
    "sns.boxplot(data=df, y='matches')\n",
    "plt.show()\n",
    "'''\n",
    "\n",
    "# calcolo dell'IQR per identificare gli outlier\n",
    "Q1 = df['matches'].quantile(0.25)\n",
    "Q3 = df['matches'].quantile(0.75)\n",
    "IQR = Q3 - Q1\n",
    "\n",
    "# definizione dei limiti per considerare i valori outlier\n",
    "lower_bound = Q1 - 1.5 * IQR\n",
    "upper_bound = Q3 + 1.5 * IQR\n",
    "\n",
    "# filtra i dati per rimuovere gli outlier\n",
    "df = df[(df['matches'] >= lower_bound) & (df['matches'] <= upper_bound)]\n",
    "\n",
    "'''\n",
    "sns.histplot(df['matches'], kde=True)  # kde=True aggiunge la curva di densità\n",
    "plt.title(\"distribuzione di 'matches' con curva di densità\")\n",
    "plt.xlabel(\"valori di 'matches'\")\n",
    "plt.ylabel(\"densità\")\n",
    "plt.show()\n",
    "\n",
    "sns.boxplot(data=df, y='matches')\n",
    "plt.show()\n",
    "'''"
   ]
  },
  {
   "cell_type": "markdown",
   "id": "4f55f69f",
   "metadata": {},
   "source": [
    "#### 2.1) Pre-processing per il task Non Supervisionato(Clustering)\n",
    "Per i vari task verranno selezionate solo alcune features utili al task:\n",
    "- Per il task di **Apprendimento Non Supervisionato**(intercettare le classi naturali), verrà fatta una features selection partendo dal primo dataset pre processato.\n",
    "\n",
    "#### 2.1) Pre-processing per il task Supervisionato\n",
    "- Per apprendere il modello nel task di **Apprendimento Supervisionato** verrà utilizzato il dataset generato dal task di apprendimento non supervisionato.\n",
    "\n",
    "#### 2.1) Pre-processing per il task di Ricerca Locale\n",
    "Per costruire la funzione obiettivo e le variabili con rispettivi domini nel CSP verranno usate le features:\n",
    "- **playerClass**: per stabilire il dominio della variabile\n",
    "- **game_exits**: ottenuta dalla *Feature Derivation*"
   ]
  },
  {
   "cell_type": "code",
   "execution_count": 3,
   "id": "90dbe0e0",
   "metadata": {},
   "outputs": [
    {
     "name": "stdout",
     "output_type": "stream",
     "text": [
      "File 'datasets/cod_vanguard_player_stats_preprocessed.csv' non trovato.\n"
     ]
    }
   ],
   "source": [
    "import os\n",
    "\n",
    "# salvataggio dataset preprocessed \n",
    "file_path = 'datasets/cod_vanguard_player_stats_preprocessed.csv'\n",
    "if os.path.exists(file_path):\n",
    "    os.remove(file_path)\n",
    "    print(f\"File '{file_path}' rimosso con successo.\")\n",
    "else:\n",
    "    print(f\"File '{file_path}' non trovato.\")\n",
    "    \n",
    "# Salvataggio del dataframe come CSV\n",
    "df.to_csv(file_path, index=False)"
   ]
  },
  {
   "cell_type": "markdown",
   "id": "f3a72d33",
   "metadata": {},
   "source": [
    "## 3) Local Search for Optimization(CSP e Ricerca Locale)\n",
    "\n",
    "\n",
    "\n",
    "L'idea è quella di rappresentare il problema dell'assegnazione delle risorse limitate tramite un algoritmo di ricerca rispetto alle assegnazioni sul CSP. Il problema codificherà dei criteri codificandoli tramite **Funzione Obiettivo**/**Soft Constraints** che guideranno la ricerca di una soluzione. \n",
    "\n",
    "A causa della complessità dello spazio di ricerca legato in modo esponenziale rispetto alla quantità di giocatori disponibili, la ricerca non sarà esaustiva, verrà quindi usato un **Algoritmo di Ricerca Locale**. \n",
    "\n",
    "A causa delle risorse limitate(partite istanziabili), alcuni giocatori potrebbero non riuscire ad essere assegnati ad alcuna partita, quindi potrebbe non esistere un'assegnazione(soluzione) che soddisfi tutti i vincoli ma che li soddisfi solo parzialmente. Vogliamo quindi soddisfare quanti più vincoli possibili, trasfare in soft constraints alcuni hard constraints e massimizzare l'ottimalità della soluzione. Per cui l'algoritmo di ricerca locale scelto sarà un algoritmo *Local Search for Optimization*.\n",
    "\n",
    "\n",
    "\n",
    "I criteri che contribuiranno all'ottimizzazione saranno:\n",
    "\n",
    "- **Massimizzare l'utilizzo delle risorse**: Massimizzare il numero totale di giocatori giocanti, cercando di servire quanti più utenti online possibili\n",
    "- **Massimizzare la popolazione della partita**: Massimizzare la popolazione delle partite significherà incentivare il riempimento delle partite, evitando di istanziare partite sottoutilizzate e quindi di utilizzare ulteriori risorse(limitate). \n",
    "---\n",
    "Quindi si vuole veicolare la ricerca verso soluzioni che tendono a riempire tutte le partite istanziate, evitando di generare soluzioni in cui ci sono partite che tendono a non riempirsi. Questo è implementabile aggiungendo una penalità che cresce quando la differenza tra il numero di giocatori in una partita e la capacità massima della partita aumenta.\n",
    "\n",
    "---\n",
    "- **Tempo di attesa dei giocatori in coda**: Minimizzare il numero di giocatori non assegnati ad una partita che sono in attesa da più tempo. Questi verranno preferiti nelle assegnazioni alle partite\n",
    "- **rate quitting**:  Minimizzare il numero di giocatori con un alto tasso di abbandono, sfavorendoli all'assegnazione di una partita. Questo permetterà di favorire giocatori che mantengono le partite piene, inducendo quindi il pieno utilizzo delle risorse server(giocatori che abbandonano facilmente una partita, potrebbero richiedere di partecipare a nuove istanze, portando a non sfruttare pienamente le risorse). \n",
    "- **Partite con giocatori con della stessa classe**: Ad una partita verranno assegnati giocatori che fanno parte della stessa classe naturale(stile di gioco - abilità), riducendo la possibilità che questi giocatori differiscano troppo tra loro\n",
    "\n"
   ]
  },
  {
   "cell_type": "markdown",
   "id": "678e6711",
   "metadata": {},
   "source": [
    "## 3.2) Google OR-Tools \n",
    "Per il tipo di problema di *Local Search for Optimization* ho deciso di utilizzare la libreria [Google OR-Tools](https://developers.google.com/optimization?hl=it). Questa mi permetterà di gestire aspetti riguardanti:\n",
    "- **Supporto per CSP**: OR-Tools è pensata per risolvere *Constraint Satisfaction Problems (CSP)*\n",
    "- **Gestione di Constraint**: consentendo sia vincoli hard che soft (vincoli hard saranno usati per gestire la capacità massima delle partite)\n",
    "- **Funzione Obiettivo**: che guiderà le soluzioni ottimali\n",
    "- **Tecninche di ricerca locale**: offrendo algoritmi di ricerca locale combinabili con *simulated annealing* e *tabu search*, affrontati durante il corso\n",
    "\n",
    "*La penalità dei soft constraint verrà incorporata nella funzione obiettivo per l'ottimizzazione*"
   ]
  },
  {
   "cell_type": "code",
   "execution_count": 4,
   "id": "9641bda1-a26e-4329-b5ca-4e906f9f133b",
   "metadata": {},
   "outputs": [
    {
     "name": "stdout",
     "output_type": "stream",
     "text": [
      "Requirement already satisfied: ortools in c:\\users\\roman\\anaconda3\\lib\\site-packages (9.11.4210)\n",
      "Requirement already satisfied: absl-py>=2.0.0 in c:\\users\\roman\\anaconda3\\lib\\site-packages (from ortools) (2.1.0)\n",
      "Requirement already satisfied: numpy>=1.13.3 in c:\\users\\roman\\anaconda3\\lib\\site-packages (from ortools) (1.26.4)\n",
      "Requirement already satisfied: pandas>=2.0.0 in c:\\users\\roman\\anaconda3\\lib\\site-packages (from ortools) (2.1.4)\n",
      "Requirement already satisfied: protobuf<5.27,>=5.26.1 in c:\\users\\roman\\anaconda3\\lib\\site-packages (from ortools) (5.26.1)\n",
      "Requirement already satisfied: immutabledict>=3.0.0 in c:\\users\\roman\\anaconda3\\lib\\site-packages (from ortools) (4.2.0)\n",
      "Requirement already satisfied: python-dateutil>=2.8.2 in c:\\users\\roman\\anaconda3\\lib\\site-packages (from pandas>=2.0.0->ortools) (2.8.2)\n",
      "Requirement already satisfied: pytz>=2020.1 in c:\\users\\roman\\anaconda3\\lib\\site-packages (from pandas>=2.0.0->ortools) (2023.3.post1)\n",
      "Requirement already satisfied: tzdata>=2022.1 in c:\\users\\roman\\anaconda3\\lib\\site-packages (from pandas>=2.0.0->ortools) (2023.3)\n",
      "Requirement already satisfied: six>=1.5 in c:\\users\\roman\\anaconda3\\lib\\site-packages (from python-dateutil>=2.8.2->pandas>=2.0.0->ortools) (1.16.0)\n"
     ]
    }
   ],
   "source": [
    "#Installazione Google OR-Tools\n",
    "!pip install ortools"
   ]
  },
  {
   "cell_type": "code",
   "execution_count": 5,
   "id": "ed75a32d",
   "metadata": {},
   "outputs": [
    {
     "name": "stdout",
     "output_type": "stream",
     "text": [
      "[player_assignment_0(-1..15), player_assignment_1(-1..15), player_assignment_2(-1..15), player_assignment_3(-1..15), player_assignment_4(-1..15), player_assignment_5(-1..15), player_assignment_6(-1..15), player_assignment_7(-1..15), player_assignment_8(-1..15), player_assignment_9(-1..15), player_assignment_10(-1..15), player_assignment_11(-1..15), player_assignment_12(-1..15), player_assignment_13(-1..15), player_assignment_14(-1..15), player_assignment_15(-1..15), player_assignment_16(-1..15), player_assignment_17(-1..15), player_assignment_18(-1..15), player_assignment_19(-1..15), player_assignment_20(-1..15), player_assignment_21(-1..15), player_assignment_22(-1..15), player_assignment_23(-1..15), player_assignment_24(-1..15), player_assignment_25(-1..15), player_assignment_26(-1..15), player_assignment_27(-1..15), player_assignment_28(-1..15), player_assignment_29(-1..15), player_assignment_30(-1..15), player_assignment_31(-1..15), player_assignment_32(-1..15), player_assignment_33(-1..15), player_assignment_34(-1..15), player_assignment_35(-1..15), player_assignment_36(-1..15), player_assignment_37(-1..15), player_assignment_38(-1..15), player_assignment_39(-1..15), player_assignment_40(-1..15), player_assignment_41(-1..15), player_assignment_42(-1..15), player_assignment_43(-1..15), player_assignment_44(-1..15), player_assignment_45(-1..15), player_assignment_46(-1..15), player_assignment_47(-1..15), player_assignment_48(-1..15), player_assignment_49(-1..15), player_assignment_50(-1..15), player_assignment_51(-1..15), player_assignment_52(-1..15), player_assignment_53(-1..15), player_assignment_54(-1..15), player_assignment_55(-1..15), player_assignment_56(-1..15), player_assignment_57(-1..15), player_assignment_58(-1..15), player_assignment_59(-1..15), player_assignment_60(-1..15), player_assignment_61(-1..15), player_assignment_62(-1..15), player_assignment_63(-1..15), player_assignment_64(-1..15), player_assignment_65(-1..15), player_assignment_66(-1..15), player_assignment_67(-1..15), player_assignment_68(-1..15), player_assignment_69(-1..15), player_assignment_70(-1..15), player_assignment_71(-1..15), player_assignment_72(-1..15), player_assignment_73(-1..15), player_assignment_74(-1..15), player_assignment_75(-1..15), player_assignment_76(-1..15), player_assignment_77(-1..15), player_assignment_78(-1..15), player_assignment_79(-1..15), player_assignment_80(-1..15), player_assignment_81(-1..15), player_assignment_82(-1..15), player_assignment_83(-1..15), player_assignment_84(-1..15), player_assignment_85(-1..15), player_assignment_86(-1..15), player_assignment_87(-1..15), player_assignment_88(-1..15), player_assignment_89(-1..15), player_assignment_90(-1..15), player_assignment_91(-1..15), player_assignment_92(-1..15), player_assignment_93(-1..15), player_assignment_94(-1..15), player_assignment_95(-1..15), player_assignment_96(-1..15), player_assignment_97(-1..15), player_assignment_98(-1..15), player_assignment_99(-1..15), player_assignment_100(-1..15), player_assignment_101(-1..15), player_assignment_102(-1..15), player_assignment_103(-1..15), player_assignment_104(-1..15), player_assignment_105(-1..15), player_assignment_106(-1..15), player_assignment_107(-1..15), player_assignment_108(-1..15), player_assignment_109(-1..15), player_assignment_110(-1..15), player_assignment_111(-1..15), player_assignment_112(-1..15), player_assignment_113(-1..15), player_assignment_114(-1..15), player_assignment_115(-1..15), player_assignment_116(-1..15), player_assignment_117(-1..15), player_assignment_118(-1..15), player_assignment_119(-1..15), player_assignment_120(-1..15), player_assignment_121(-1..15), player_assignment_122(-1..15), player_assignment_123(-1..15), player_assignment_124(-1..15), player_assignment_125(-1..15), player_assignment_126(-1..15), player_assignment_127(-1..15), player_assignment_128(-1..15), player_assignment_129(-1..15), player_assignment_130(-1..15), player_assignment_131(-1..15), player_assignment_132(-1..15), player_assignment_133(-1..15), player_assignment_134(-1..15), player_assignment_135(-1..15), player_assignment_136(-1..15), player_assignment_137(-1..15), player_assignment_138(-1..15), player_assignment_139(-1..15), player_assignment_140(-1..15), player_assignment_141(-1..15), player_assignment_142(-1..15), player_assignment_143(-1..15), player_assignment_144(-1..15), player_assignment_145(-1..15), player_assignment_146(-1..15), player_assignment_147(-1..15), player_assignment_148(-1..15), player_assignment_149(-1..15), player_assignment_150(-1..15), player_assignment_151(-1..15), player_assignment_152(-1..15), player_assignment_153(-1..15), player_assignment_154(-1..15), player_assignment_155(-1..15), player_assignment_156(-1..15), player_assignment_157(-1..15), player_assignment_158(-1..15), player_assignment_159(-1..15), player_assignment_160(-1..15), player_assignment_161(-1..15), player_assignment_162(-1..15), player_assignment_163(-1..15), player_assignment_164(-1..15), player_assignment_165(-1..15), player_assignment_166(-1..15), player_assignment_167(-1..15), player_assignment_168(-1..15), player_assignment_169(-1..15), player_assignment_170(-1..15), player_assignment_171(-1..15), player_assignment_172(-1..15), player_assignment_173(-1..15), player_assignment_174(-1..15), player_assignment_175(-1..15), player_assignment_176(-1..15), player_assignment_177(-1..15), player_assignment_178(-1..15), player_assignment_179(-1..15), player_assignment_180(-1..15), player_assignment_181(-1..15), player_assignment_182(-1..15), player_assignment_183(-1..15), player_assignment_184(-1..15), player_assignment_185(-1..15), player_assignment_186(-1..15), player_assignment_187(-1..15), player_assignment_188(-1..15), player_assignment_189(-1..15), player_assignment_190(-1..15), player_assignment_191(-1..15), player_assignment_192(-1..15), player_assignment_193(-1..15), player_assignment_194(-1..15), player_assignment_195(-1..15), player_assignment_196(-1..15), player_assignment_197(-1..15), player_assignment_198(-1..15), player_assignment_199(-1..15)]\n",
      "[match_assignment_0(0..3), match_assignment_1(0..3), match_assignment_2(0..3), match_assignment_3(0..3), match_assignment_4(0..3), match_assignment_5(0..3), match_assignment_6(0..3), match_assignment_7(0..3), match_assignment_8(0..3), match_assignment_9(0..3), match_assignment_10(0..3), match_assignment_11(0..3), match_assignment_12(0..3), match_assignment_13(0..3), match_assignment_14(0..3)]\n"
     ]
    }
   ],
   "source": [
    "# importazione della libreria Google OR-Tools\n",
    "from ortools.sat.python import cp_model\n",
    "\n",
    "# creazione del modello\n",
    "model = cp_model.CpModel()\n",
    "\n",
    "\n",
    "# configurazione parametri\n",
    "availablePlayers = 200 # giocatori dispobili\n",
    "instancesAvailableMatches = 15 # istanze partite disponibili ad essere avviate\n",
    "playerCapacityMatches = 10 # capacità partite\n",
    "playersClassCount = 3; # numero di classi di abilità per i giocatori\n",
    "\n",
    "\n",
    "# inizializzazione variabili CSP giocatori\n",
    "playerAssignment = []\n",
    "for i in range(availablePlayers):\n",
    "    cspPVar = model.NewIntVar(\n",
    "        \n",
    "        # range dominio variabile (un valore nel range indicherà a quale partita è assegnato il giocatore)\n",
    "        # -1 indica che il giocatre non è stato assegnato a nessuna partita\n",
    "        -1, instancesAvailableMatches,\n",
    "        f'player_assignment_{i}' # etichetta variabile CSP\n",
    "    )\n",
    "    playerAssignment.append(cspPVar)\n",
    "    \n",
    "    \n",
    "    \n",
    "    \n",
    "# inizializzazione variabili CSP istanze partite\n",
    "matchAssignment = []\n",
    "for i in range(instancesAvailableMatches):\n",
    "    cspMVar = model.NewIntVar(\n",
    "        \n",
    "        # range dominio variabile (valore nel range indicherà che classe di giocatori ospiterà la partita)\n",
    "        0, playersClassCount, \n",
    "        f'match_assignment_{i}' # etichetta variabile CSP\n",
    "    )\n",
    "    matchAssignment.append(cspMVar)\n",
    "\n",
    "    \n",
    "    \n",
    "    \n",
    "# inizializzazione hard constraints\n",
    "\n",
    "\n",
    "print(playerAssignment)\n",
    "print(matchAssignment)"
   ]
  },
  {
   "cell_type": "code",
   "execution_count": 6,
   "id": "c7861ac8-ed45-4564-b132-a9ba85be3f2b",
   "metadata": {},
   "outputs": [
    {
     "data": {
      "text/plain": [
       "\"\\nimport pandas as pd\\n\\n\\n# Creiamo un dataframe di esempio\\ndata = {\\n    'Nome': ['Mario', 'Luigi', 'Peach'],\\n    'Età': [23, 24, 25]\\n}\\ndf = pd.DataFrame(data)\\n\\n# Salviamo il dataframe come CSV\\ndf.to_csv('persone.csv', index=False)\\n\""
      ]
     },
     "execution_count": 6,
     "metadata": {},
     "output_type": "execute_result"
    }
   ],
   "source": [
    "'''\n",
    "import pandas as pd\n",
    "\n",
    "\n",
    "# Creiamo un dataframe di esempio\n",
    "data = {\n",
    "    'Nome': ['Mario', 'Luigi', 'Peach'],\n",
    "    'Età': [23, 24, 25]\n",
    "}\n",
    "df = pd.DataFrame(data)\n",
    "\n",
    "# Salviamo il dataframe come CSV\n",
    "df.to_csv('persone.csv', index=False)\n",
    "'''"
   ]
  },
  {
   "cell_type": "markdown",
   "id": "90a8e9aa",
   "metadata": {},
   "source": [
    "# Web scraper from"
   ]
  },
  {
   "cell_type": "code",
   "execution_count": 7,
   "id": "e3c44082",
   "metadata": {},
   "outputs": [
    {
     "name": "stdout",
     "output_type": "stream",
     "text": [
      "Requirement already satisfied: requests in c:\\users\\roman\\anaconda3\\lib\\site-packages (2.31.0)\n",
      "Requirement already satisfied: beautifulsoup4 in c:\\users\\roman\\anaconda3\\lib\\site-packages (4.12.2)\n",
      "Requirement already satisfied: charset-normalizer<4,>=2 in c:\\users\\roman\\anaconda3\\lib\\site-packages (from requests) (2.0.4)\n",
      "Requirement already satisfied: idna<4,>=2.5 in c:\\users\\roman\\anaconda3\\lib\\site-packages (from requests) (3.4)\n",
      "Requirement already satisfied: urllib3<3,>=1.21.1 in c:\\users\\roman\\anaconda3\\lib\\site-packages (from requests) (2.0.7)\n",
      "Requirement already satisfied: certifi>=2017.4.17 in c:\\users\\roman\\anaconda3\\lib\\site-packages (from requests) (2024.8.30)\n",
      "Requirement already satisfied: soupsieve>1.2 in c:\\users\\roman\\anaconda3\\lib\\site-packages (from beautifulsoup4) (2.5)\n"
     ]
    }
   ],
   "source": [
    "!pip install requests beautifulsoup4"
   ]
  }
 ],
 "metadata": {
  "kernelspec": {
   "display_name": "Python 3 (ipykernel)",
   "language": "python",
   "name": "python3"
  },
  "language_info": {
   "codemirror_mode": {
    "name": "ipython",
    "version": 3
   },
   "file_extension": ".py",
   "mimetype": "text/x-python",
   "name": "python",
   "nbconvert_exporter": "python",
   "pygments_lexer": "ipython3",
   "version": "3.11.7"
  }
 },
 "nbformat": 4,
 "nbformat_minor": 5
}
