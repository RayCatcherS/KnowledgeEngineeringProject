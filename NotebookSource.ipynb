{
 "cells": [
  {
   "cell_type": "markdown",
   "id": "bfc4168f",
   "metadata": {},
   "source": [
    "# Progetto basato su conoscenza\n",
    "Progetto basato su conoscenza per l'esame di Ingegneria Della Conoscenza"
   ]
  },
  {
   "cell_type": "markdown",
   "id": "f3a72d33",
   "metadata": {},
   "source": [
    "## Local Search for Optimization(CSP e Ricerca Locale)\n",
    "Si simula lo scenario in cui si vogliono sfruttare al meglio le risorse dedicate ai server online per il lancio di un nuovo gioco multiplayer. Si assume che si voglia gestire un carico molto elevato di richieste di partecipazione, dato dal picco di giocatori rispetto alla nuova uscita. \n",
    "Essendo le risorse server limitate, si assume che ad ogni certo istante, il sistema possa indichi un tot di partite istanziabili rispetto alle sue capacità. Si assume che ci siano un certo numero di giocatori in fase di ricerca di una nuova partita. \n",
    "\n",
    "\n",
    "\n",
    "L'obiettivo di questo problema è ottimizzare al meglio l'utilizzo delle risorse(limitate) dei server usati per istanziare partite online, favorendo dei criteri legati ai partecipanti. L'idea è quella di rappresentare il problema dell'assegnazione delle risorse limitate tramite un algoritmo di ricerca rispetto alle assegnazioni sul CSP. Il problema codificherà dei criteri codificandoli tramite **Funzione Obiettivo**/**Soft Constraints** che guideranno la ricerca di una soluzione. \n",
    "\n",
    "A causa della complessità dello spazio di ricerca legato in modo esponenziale rispetto alla quantità di giocatori disponibili, la ricerca non sarà esaustiva, verrà quindi usato un **Algoritmo di Ricerca Locale**. \n",
    "\n",
    "A causa delle risorse limitate(partite istanziabili), alcuni giocatori potrebbero non riuscire ad essere assegnati ad alcuna partita, quindi potrebbe non esistere un'assegnazione(soluzione) che soddisfi tutti i vincoli ma che li soddisfi solo parzialmente. Vogliamo quindi soddisfare quanti più vincoli possibili, trasfare in soft constraints alcuni hard constraints e massimizzare l'ottimalità della soluzione. Per cui l'algoritmo di ricerca locale scelto sarà un algoritmo *Local Search for Optimization*.\n",
    "\n",
    "\n",
    "\n",
    "I criteri che contribuiranno all'ottimizzazione saranno:\n",
    "\n",
    "- **Massimizzare l'utilizzo delle risorse**: Massimizzare il numero totale di giocatori giocanti, cercando di servire quanti più utenti online possibili\n",
    "- **Massimizzare la popolazione della partita**: Massimizzare la popolazione delle partite significherà evitare di dover istanziare ulteriori risorse(partite) essendo queste limitate. Quindi si vuole veicolare la ricerca di soluzioni verso soluzioni che tendono a riempire tutte le partite istanziate, evitando di generare soluzione in cui ci sono partite che tendono a non riempirsi\n",
    "- **Tempo di attesa dei giocatori in coda**: Minimizzare il numero di giocatori non assegnati ad una partita che sono in attesa da più tempo. Questi verranno preferiti nelle assegnazioni alle partite\n",
    "- **rate quitting**:  Minimizzare il numero di giocatori con un alto tasso di abbandono, sfavorendoli all'assegnazione di una partita. Questo permetterà di favorire giocatori che mantengono le partite piene, inducendo quindi il pieno utilizzo delle risorse server(giocatori che abbandonano facilmente una partita, potrebbero richiedere di partecipare a nuove istanze, portando a non sfruttare pienamente le risorse). \n",
    "- **Partite con giocatori con della stessa classe**: Ad una partita verranno assegnati giocatori che fanno parte della stessa classe naturale(stile di gioco - abilità), riducendo la possibilità che questi giocatori differiscano troppo tra loro\n",
    "\n"
   ]
  },
  {
   "cell_type": "code",
   "execution_count": 9,
   "id": "9641bda1-a26e-4329-b5ca-4e906f9f133b",
   "metadata": {
    "scrolled": true
   },
   "outputs": [
    {
     "name": "stdout",
     "output_type": "stream",
     "text": [
      "Requirement already satisfied: ortools in c:\\users\\roman\\anaconda3\\lib\\site-packages (9.11.4210)\n",
      "Requirement already satisfied: absl-py>=2.0.0 in c:\\users\\roman\\anaconda3\\lib\\site-packages (from ortools) (2.1.0)\n",
      "Requirement already satisfied: numpy>=1.13.3 in c:\\users\\roman\\anaconda3\\lib\\site-packages (from ortools) (1.26.4)\n",
      "Requirement already satisfied: pandas>=2.0.0 in c:\\users\\roman\\anaconda3\\lib\\site-packages (from ortools) (2.1.4)\n",
      "Requirement already satisfied: protobuf<5.27,>=5.26.1 in c:\\users\\roman\\anaconda3\\lib\\site-packages (from ortools) (5.26.1)\n",
      "Requirement already satisfied: immutabledict>=3.0.0 in c:\\users\\roman\\anaconda3\\lib\\site-packages (from ortools) (4.2.0)\n",
      "Requirement already satisfied: python-dateutil>=2.8.2 in c:\\users\\roman\\anaconda3\\lib\\site-packages (from pandas>=2.0.0->ortools) (2.8.2)\n",
      "Requirement already satisfied: pytz>=2020.1 in c:\\users\\roman\\anaconda3\\lib\\site-packages (from pandas>=2.0.0->ortools) (2023.3.post1)\n",
      "Requirement already satisfied: tzdata>=2022.1 in c:\\users\\roman\\anaconda3\\lib\\site-packages (from pandas>=2.0.0->ortools) (2023.3)\n",
      "Requirement already satisfied: six>=1.5 in c:\\users\\roman\\anaconda3\\lib\\site-packages (from python-dateutil>=2.8.2->pandas>=2.0.0->ortools) (1.16.0)\n"
     ]
    }
   ],
   "source": [
    "#Installazione Google OR-Tools\n",
    "!pip install ortools"
   ]
  },
  {
   "cell_type": "code",
   "execution_count": null,
   "id": "ed75a32d",
   "metadata": {},
   "outputs": [],
   "source": [
    "from ortools.sat.python import cp_model\n",
    "\n",
    "# modello\n",
    "model = cp_model.CpModel()\n",
    "\n",
    "# variabili e vincoli\n",
    "availablePlayers = 200 # giocatori dispobili\n",
    "instancesAvailableMatches = 15 # istanze partite disponibili ad essere avviate\n",
    "playerCapacityMatches = 10 # capacità partite\n",
    "playersClassCount = 3;\n",
    "\n",
    "\n",
    "# inizializzazione variabili CSP giocatori\n",
    "playerAssignment = []\n",
    "for i in range(availablePlayers):\n",
    "    cspPVar = model.NewIntVar(\n",
    "        0, instancesAvailableMatches, # range dominio variabile\n",
    "        f'player_assignment_{i}' # etichetta variabile CSP\n",
    "    )\n",
    "    playerAssignment.append(cspPVar)\n",
    "    \n",
    "    \n",
    "    \n",
    "    \n",
    "# inizializzazione variabili CSP istanze partite\n",
    "matchAssignment = []\n",
    "for i in range(instancesAvailableMatches):\n",
    "    cspMVar = model.NewIntVar(\n",
    "        0, playersClassCount, # range dominio variabile\n",
    "        f'match_assignment_{i}' # etichetta variabile CSP\n",
    "    )\n",
    "    matchAssignment.append(cspMVar)\n",
    "\n",
    "# inizializzazione hard constraints\n",
    "\n",
    "\n",
    "print(playerAssignment)\n",
    "print(matchAssignment)"
   ]
  },
  {
   "cell_type": "code",
   "execution_count": 1,
   "id": "c7861ac8-ed45-4564-b132-a9ba85be3f2b",
   "metadata": {},
   "outputs": [],
   "source": [
    "'''\n",
    "import pandas as pd\n",
    "\n",
    "\n",
    "# Creiamo un dataframe di esempio\n",
    "data = {\n",
    "    'Nome': ['Mario', 'Luigi', 'Peach'],\n",
    "    'Età': [23, 24, 25]\n",
    "}\n",
    "df = pd.DataFrame(data)\n",
    "\n",
    "# Salviamo il dataframe come CSV\n",
    "df.to_csv('persone.csv', index=False)\n",
    "'''"
   ]
  }
 ],
 "metadata": {
  "kernelspec": {
   "display_name": "Python 3 (ipykernel)",
   "language": "python",
   "name": "python3"
  },
  "language_info": {
   "codemirror_mode": {
    "name": "ipython",
    "version": 3
   },
   "file_extension": ".py",
   "mimetype": "text/x-python",
   "name": "python",
   "nbconvert_exporter": "python",
   "pygments_lexer": "ipython3",
   "version": "3.11.7"
  }
 },
 "nbformat": 4,
 "nbformat_minor": 5
}
